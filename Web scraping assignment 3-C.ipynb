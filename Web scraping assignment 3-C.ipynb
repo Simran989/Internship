{
 "cells": [
  {
   "cell_type": "markdown",
   "id": "5f3771c1",
   "metadata": {},
   "source": [
    "# Web Scraping Assignment - 3"
   ]
  },
  {
   "cell_type": "markdown",
   "id": "4e8c8a52",
   "metadata": {},
   "source": [
    "Question No.1 :\n",
    "Write a python program which searches all the product under a particular product vertical from www.amazon.in. The product verticals to be searched will be taken as input from user. For e.g. If user input is ‘guitar’.Then search for guitars."
   ]
  },
  {
   "cell_type": "code",
   "execution_count": 29,
   "id": "f412b76b",
   "metadata": {},
   "outputs": [],
   "source": [
    "# Let's import the necessary libraries for scraping\n",
    "\n",
    "#importing all liabraries\n",
    "import pandas as pd\n",
    "import numpy as np\n",
    "import selenium\n",
    "from selenium import webdriver\n",
    "import warnings \n",
    "warnings.filterwarnings(\"ignore\")\n",
    "from selenium.webdriver.common.by import By\n",
    "from selenium.common.exceptions import NoSuchElementException, StaleElementReferenceException\n",
    "import time"
   ]
  },
  {
   "cell_type": "code",
   "execution_count": 30,
   "id": "9fdffe5f",
   "metadata": {},
   "outputs": [],
   "source": [
    "# connecting to the browser\n",
    "driver=webdriver.Chrome(r\"C:\\Users\\USER\\Downloads\\chromedriver_win32 (2)\\chromedriver.exe\")\n",
    "\n"
   ]
  },
  {
   "cell_type": "code",
   "execution_count": 31,
   "id": "d39fa1d1",
   "metadata": {},
   "outputs": [],
   "source": [
    "# open the url www.amazon.in\n",
    "url = \"https://amazon.in\"\n",
    "driver.get(url)"
   ]
  },
  {
   "cell_type": "code",
   "execution_count": 33,
   "id": "f179956c",
   "metadata": {},
   "outputs": [
    {
     "name": "stdout",
     "output_type": "stream",
     "text": [
      "Enter your requirmentguitar\n"
     ]
    }
   ],
   "source": [
    "inp=driver.find_element(By.ID,'twotabsearchtextbox')\n",
    "subject=input('Enter your requirment')\n",
    "inp.send_keys(subject)"
   ]
  },
  {
   "cell_type": "code",
   "execution_count": null,
   "id": "ed4cd82b",
   "metadata": {},
   "outputs": [],
   "source": [
    "search=driver.find_element_by_id('nav-search-submit-button')\n",
    "search.click()"
   ]
  },
  {
   "cell_type": "code",
   "execution_count": null,
   "id": "42db3a45",
   "metadata": {},
   "outputs": [],
   "source": [
    "#que 2\n",
    "URL = []\n",
    "for r in range(3):\n",
    "    urls=driver.find_elements_by_xpath('//a[@class=\"a-link-normal s-underline-text s-underline-link-text s-link-style a-text-normal\"]')#tyle a-text-normalcollecting urls of all the laptop\n",
    "    for i in urls:\n",
    "        URL.append(i.get_attribute('href'))\n",
    "    \n",
    "    #click next page\n",
    "    try:\n",
    "        driver.find_element_by_xpath('//span[@class=\"s-pagination-strip\"]//a[@class=\"s-pagination-item s-pagination-next s-pagination-button s-pagination-separator\"]').click()\n",
    "    except:\n",
    "        nxt=driver.find_element_by_xpath('//a[@class=\"s-pagination-item s-pagination-next s-pagination-button s-pagination-separator\"]')\n",
    "        nxt.click()\n",
    "    time.sleep(3)"
   ]
  },
  {
   "cell_type": "code",
   "execution_count": null,
   "id": "0fbed450",
   "metadata": {},
   "outputs": [],
   "source": [
    "brand=[]\n",
    "name=[]\n",
    "price=[]\n",
    "delivery=[]\n",
    "return_ex=[]\n",
    "available=[]\n",
    "URL=URL[:5]  #just try for 5 searches but not able to get the proper results\n",
    "\n",
    "\n",
    "    \n",
    "for url in URL:\n",
    "    driver.get(url)\n",
    "    time.sleep(2)\n",
    "    \n",
    "    for i in driver.find_elements_by_xpath('//table[@class=\"a-normal a-spacing-micro\"]//tbody//tr[1]//td[2]//span'):\n",
    "        if i.text is None:\n",
    "            brand.append('--')\n",
    "        else:\n",
    "            brand.append(i.text)\n",
    "    \n",
    "    for i in driver.find_elements_by_id(\"productTitle\"):\n",
    "        if i.text is None:\n",
    "            name.append('--')\n",
    "        else:\n",
    "            name.append(i.text)\n",
    "            \n",
    "    for i in driver.find_elements_by_xpath('//table[@class=\"a-lineitem a-align-top\"]//tbody//tr//td//span//span[@class=\"a-offscreen\"]'):\n",
    "        if i.text is None:\n",
    "            price.append('--')\n",
    "        else:\n",
    "            price.append(i.text)    \n",
    "    \n",
    "    try:\n",
    "        available.append(driver.find_elements_by_xpath('//div[@id=\"availability\"]//span').text)\n",
    "    except:\n",
    "        available.append('-')\n",
    "    \n",
    "    try:\n",
    "        return_ex.append(driver.find_elements_by_id(\"productSupportAndReturnPolicy-return-policy-anchor-text\").text)\n",
    "    except:\n",
    "        return_ex.append('-')\n",
    "       \n",
    "    try:\n",
    "        delivery.append(driver.find_elements_by_xpath('//div[@class=\"a-spacing-base\"]//span//span').text)\n",
    "    except:\n",
    "        delivery.append('-')\n",
    "        time.sleep(3)\n",
    "        \n",
    "print('succesful scrap')"
   ]
  },
  {
   "cell_type": "code",
   "execution_count": null,
   "id": "21ae639b",
   "metadata": {},
   "outputs": [],
   "source": [
    "que2=pd.DataFrame({'Brand Name':brand,'Name':name,'Availability':available,'Return/Exchange':return_ex,'Delivery':delivery,\n",
    "                 'Price':price,'Product_url':URL})\n",
    "que2"
   ]
  },
  {
   "cell_type": "code",
   "execution_count": null,
   "id": "2383f635",
   "metadata": {},
   "outputs": [],
   "source": [
    "#que 3\n",
    "\n",
    "url='https://images.google.com/'\n",
    "driver.get(url)"
   ]
  },
  {
   "cell_type": "code",
   "execution_count": null,
   "id": "ad6b925d",
   "metadata": {},
   "outputs": [],
   "source": [
    "bar=driver.find_element_by_xpath('//input[@class=\"gLFyf gsfi\"]')\n",
    "se=input('Enter the Keyword: ')\n",
    "bar.send_keys(se)"
   ]
  },
  {
   "cell_type": "code",
   "execution_count": null,
   "id": "38efabcd",
   "metadata": {},
   "outputs": [],
   "source": [
    "search=driver.find_element_by_xpath('//span[@class=\"z1asCe MZy1Rb\"]')\n",
    "search.click()"
   ]
  },
  {
   "cell_type": "code",
   "execution_count": null,
   "id": "2b0c6b72",
   "metadata": {},
   "outputs": [],
   "source": [
    "url=[]\n",
    "for i in driver.find_elements_by_xpath('//img[@class=\"rg_i Q4LuWd\"]'):\n",
    "    url.append(i.get_attribute('src'))\n",
    "\n",
    "url=url[:9]\n",
    "for i in url:\n",
    "    driver.get(i)"
   ]
  },
  {
   "cell_type": "code",
   "execution_count": null,
   "id": "41c54458",
   "metadata": {},
   "outputs": [],
   "source": [
    "#que 6\n",
    "url='https://trak.in/'\n",
    "driver.get(url)\n",
    "time.sleep(5)"
   ]
  },
  {
   "cell_type": "code",
   "execution_count": null,
   "id": "070ca5ea",
   "metadata": {},
   "outputs": [],
   "source": [
    "funding=driver.find_element_by_xpath('//a[@title=\"http://trak.in/india-startup-funding-investment-2015/\"]')\n",
    "funding.click()"
   ]
  },
  {
   "cell_type": "code",
   "execution_count": null,
   "id": "ee15d510",
   "metadata": {},
   "outputs": [],
   "source": [
    "date=driver.find_elements_by_xpath('//tbody/tr/td[2]')\n",
    "stname=driver.find_elements_by_xpath('//tbody/tr/td[3]')\n",
    "ind=driver.find_elements_by_xpath('//tbody/tr/td[4]')\n",
    "sub=driver.find_elements_by_xpath('//tbody/tr/td[5]')\n",
    "city=driver.find_elements_by_xpath('//tbody/tr/td[6]')\n",
    "inv=driver.find_elements_by_xpath('//tbody/tr/td[7]')\n",
    "invt=driver.find_elements_by_xpath('//tbody/tr/td[8]')\n",
    "amount=driver.find_elements_by_xpath('//tbody/tr/td[9]')\n",
    "\n",
    "funding=[]\n",
    "for i in range(len(city)):\n",
    "    temp={'Date':date[i].text,'Startup Name':stname[i].text,'Industy':ind[i].text,\n",
    "          'Sub-vertical':sub[i].text, 'City':city[i].text,'Investor':inv[i].text,\n",
    "          'Investment type':invt[i].text,'Amount(USD)':amount[i].text}\n",
    "    \n",
    "    funding.append(temp)"
   ]
  },
  {
   "cell_type": "code",
   "execution_count": null,
   "id": "1b37db12",
   "metadata": {},
   "outputs": [],
   "source": [
    "funding=funding[5:29]\n",
    "\n",
    "df=pd.DataFrame(funding)\n",
    "df\n",
    "\n"
   ]
  },
  {
   "cell_type": "code",
   "execution_count": null,
   "id": "415f0b16",
   "metadata": {},
   "outputs": [],
   "source": [
    "#que 7\n",
    "\n",
    "url='https://www.digit.in'\n",
    "driver.get(url)"
   ]
  },
  {
   "cell_type": "code",
   "execution_count": null,
   "id": "43679a46",
   "metadata": {},
   "outputs": [],
   "source": [
    "driver.find_element_by_xpath('//div[@class=\"menu\"]/ul/li[3]/a').click()\n",
    "time.sleep(3)"
   ]
  },
  {
   "cell_type": "code",
   "execution_count": null,
   "id": "fbf8b07e",
   "metadata": {},
   "outputs": [],
   "source": [
    "try:\n",
    "    ele=driver.find_element_by_xpath('//div[@class=\"Listbrand\"]/ul/li[10]/a')\n",
    "    driver.execute_script(\"arguments[0].click();\", ele)\n",
    "except ElementClickInterceptedException as e:\n",
    "    src= driver.find_element_by_xpath('//div[@class=\"Listbrand\"]/ul/li[10]/a').get_attribute('src')\n",
    "    driver.get(src)"
   ]
  },
  {
   "cell_type": "code",
   "execution_count": null,
   "id": "f7761b89",
   "metadata": {},
   "outputs": [],
   "source": [
    "product_url=[]\n",
    "url=driver.find_elements_by_xpath('//div[@class=\"TopNumbeHeading active sticky-footer\"]/a')\n",
    "for i in url:\n",
    "    product_url.append(i.get_attribute('href'))"
   ]
  },
  {
   "cell_type": "code",
   "execution_count": null,
   "id": "bf4e155d",
   "metadata": {},
   "outputs": [],
   "source": [
    "name=[]\n",
    "os=[]\n",
    "display=[]\n",
    "processor=[]\n",
    "memory=[]\n",
    "market_status=[]\n",
    "release_date=[]\n",
    "price=[]\n",
    "official_website=[]\n",
    "\n",
    "for i in product_url:\n",
    "    driver.get(i)\n",
    "    time.sleep(4)\n",
    "    for i in driver.find_elements_by_xpath('//div[@class=\"heading-wraper\"]/h1'):\n",
    "        name.append(i.text)\n",
    "    for i in driver.find_elements_by_xpath('/html/body/div[3]/div[2]/div[3]/div[3]/div[3]/div/ul/li[1]/div/p[2]/strong'):\n",
    "        os.append(i.text)\n",
    "    for i in driver.find_elements_by_xpath('/html/body/div[3]/div[2]/div[3]/div[3]/div[3]/div/ul/li[2]/div/p[2]/strong'):\n",
    "        display.append(i.text)\n",
    "    for i in driver.find_elements_by_xpath('/html/body/div[3]/div[2]/div[3]/div[3]/div[3]/div/ul/li[3]/div/p[2]/strong'):\n",
    "        processor.append(i.text)\n",
    "    for i in driver.find_elements_by_xpath('/html/body/div[3]/div[2]/div[3]/div[3]/div[3]/div/ul/li[4]/div/p[2]/strong'):\n",
    "        memory.append(i.text)\n",
    "    for i in driver.find_elements_by_xpath('//strong[@class=\"red\"]'):\n",
    "        market_status.append(i.text)\n",
    "    for i in driver.find_elements_by_xpath('/html/body/div[3]/div[2]/div[3]/div[3]/div[1]/div[2]/strong'):\n",
    "        release_date.append(i.text)\n",
    "    for i in driver.find_elements_by_xpath('/html/body/div[3]/div[2]/div[3]/div[3]/div[1]/div[3]/strong'):\n",
    "        official_website.append(i.text)\n",
    "    for i in driver.find_elements_by_xpath('/html/body/div[3]/div[2]/div[3]/div[3]/div[4]/div/h2/strong'):\n",
    "        price.append(i.text)"
   ]
  },
  {
   "cell_type": "code",
   "execution_count": null,
   "id": "aac2eabc",
   "metadata": {},
   "outputs": [],
   "source": [
    "gaming_laptop=pd.DataFrame({'Name':name,'Operating System':os,'Display':display,'Processor':processor,\n",
    "                          'Memory':memory,'Market Status':market_status,'Release Date':release_date,\n",
    "                          'Official Website':official_website,'Price':price})\n",
    "gaming_laptop"
   ]
  },
  {
   "cell_type": "code",
   "execution_count": null,
   "id": "591006a9",
   "metadata": {},
   "outputs": [],
   "source": [
    "#que 4\n",
    "\n",
    "url='https://www.flipkart.com'\n",
    "driver.get(url)\n",
    "time.sleep(5)\n",
    "\n",
    "try:\n",
    "    driver.find_element_by_xpath('//button[@class=\"_2KpZ6l _2doB4z\"]').click()\n",
    "except Exception:\n",
    "    pass\n",
    "\n",
    "driver.find_element_by_xpath('//input[@class=\"_3704LK\"]').send_keys('pixel 4A')\n",
    "driver.find_element_by_xpath('//button[@class=\"L0Z3Pu\"]').click()\n",
    "\n",
    "product_urls=[]\n",
    "url=driver.find_elements_by_xpath('//a[@class=\"_1fQZEK\"]')\n",
    "for i in url:\n",
    "    product_urls.append(i.get_attribute('href'))\n",
    "    \n",
    "len(product_urls)\n",
    "\n",
    "brand=[]\n",
    "name=[]\n",
    "color=[]\n",
    "ram=[]\n",
    "rom=[]\n",
    "primary_cam=[]\n",
    "secondary_cam=[]\n",
    "display=[]\n",
    "battery=[]\n",
    "price=[]\n",
    "\n",
    "\n",
    "for i in product_urls:\n",
    "    driver.get(i)\n",
    "    driver.find_element_by_xpath('//button[@class=\"_2KpZ6l _1FH0tX\"]').click()\n",
    "    \n",
    "    for i in driver.find_elements_by_xpath('//span[@class=\"B_NuCI\"]'):\n",
    "        brand.append(i.text.split(\" \",1)[0])\n",
    "        \n",
    "    for i in driver.find_elements_by_xpath('//div[@class=\"_4rR01T\"]'):\n",
    "        name.append(i.text.split(\"(\")[0])\n",
    "    \n",
    "    for i in driver.find_elements_by_xpath('//table[@class=\"_14cfVK\"]//tbody/tr[4]//td[2]'):\n",
    "        if i.text is None:\n",
    "            color.append('--')\n",
    "        else:\n",
    "            color.append(i.text.split(\"Yes\"))\n",
    "            \n",
    "    try:\n",
    "        ram.append(driver.find_elements_by_xpath('//div[@class=\"_2cM9lP\"]//div[@class=\"_2418kt\"]//ul//li[1]').text.split(\"|\")[0])\n",
    "    except:\n",
    "        ram.append('-')\n",
    "    try:\n",
    "        rom.append(driver.find_elements_by_xpath('//div[@class=\"_2cM9lP\"]//div[@class=\"_2418kt\"]//ul//li[1]').text.split(\"|\")[1])\n",
    "    except:\n",
    "        rom.append('-')\n",
    "    try:\n",
    "        primary_cam.append(driver.find_elements_by_xpath('/html/body/div[1]/div/div[3]/div[1]/div[2]/div[6]/div[1]/div/div[2]/ul/li[3]').text.split(\"|\")[0])\n",
    "    except:\n",
    "        primary_cam.append('-')\n",
    "    try:\n",
    "        secondary_cam.append(driver.find_elements_by_xpath('/html/body/div[1]/div/div[3]/div[1]/div[2]/div[6]/div[1]/div/div[2]/ul/li[3]').text.split(\"|\")[1])\n",
    "    except:\n",
    "        secondary_cam.append('-')\n",
    "    try:\n",
    "        display.append(driver.find_elements_by_xpath('/html/body/div[1]/div/div[3]/div[1]/div[2]/div[6]/div[1]/div/div[2]/ul/li[2]').text)\n",
    "    except:\n",
    "        display.append('-')\n",
    "    try:\n",
    "        battery.append(driver.find_elements_by_xpath('/html/body/div[1]/div/div[3]/div[1]/div[2]/div[6]/div[1]/div/div[2]/ul/li[4]').text)\n",
    "    except:\n",
    "        battery.append('-')\n",
    "    for i in driver.find_elements_by_xpath('//div[@class=\"_30jeq3 _16Jk6d\"]'):\n",
    "        price.append(i.text)\n",
    "        \n",
    "mobile=pd.DataFrame({'Brand Name':brand,'Name':name,'Color':color,'RAM':ram,'ROM':rom,'Primary Camera':primary_cam,'Secondary Camera':secondary_cam,'Display size':display,'Battery':battery,\n",
    "                    'Price':price})\n",
    "mobile"
   ]
  },
  {
   "cell_type": "code",
   "execution_count": null,
   "id": "0e53999f",
   "metadata": {},
   "outputs": [],
   "source": [
    "#que 5\n",
    "\n",
    "import time\n",
    "url='https://www.google.com/maps'\n",
    "driver.get(url)\n",
    "time.sleep(4)\n",
    "inp=driver.find_element_by_id(\"searchboxinput\")\n",
    "loc=input(\"Enter the City Name: \")\n",
    "inp.send_keys(loc)\n",
    "search=driver.find_element_by_id(\"searchbox-searchbutton\")\n",
    "search.click()\n",
    "\n",
    "from  geopy.geocoders import Nominatim\n",
    "geolocator = Nominatim(user_agent=\"jupyter\")\n",
    "\n",
    "location= geolocator.geocode(loc)\n",
    "print(\"latitude is :-\" ,location.latitude,\"\\nlongtitude is:-\" ,location.longitude)"
   ]
  },
  {
   "cell_type": "code",
   "execution_count": null,
   "id": "f5eb8810",
   "metadata": {},
   "outputs": [],
   "source": [
    "#que 8\n",
    "\n",
    "url='https://www.forbes.com'\n",
    "driver.get(url)\n",
    "time.sleep(5)\n",
    "\n",
    "try:\n",
    "    bill=driver.find_element_by_xpath('//div[@class=\"footer__nav\"]//a[2]')\n",
    "    bill.click()\n",
    "except:\n",
    "    bill=driver.find_element_by_xpath('//a[@class=\"footer__nav-item\"]')\n",
    "    bill.click()\n",
    "    \n",
    "li=driver.find_element_by_xpath('/html/body/div[1]/main/div/section/section[1]/div/div/div[1]/div/div[1]/div[1]/div[2]/a/h2')\n",
    "li.click()"
   ]
  },
  {
   "cell_type": "code",
   "execution_count": null,
   "id": "f1f09549",
   "metadata": {},
   "outputs": [],
   "source": [
    "url=[]\n",
    "for i in driver.find_elements_by_class_name(\"goto-page__btn\"):\n",
    "    url.append(i)"
   ]
  },
  {
   "cell_type": "code",
   "execution_count": null,
   "id": "4af11e6c",
   "metadata": {},
   "outputs": [],
   "source": [
    "rank=[]\n",
    "name=[]\n",
    "worth=[]\n",
    "age=[]\n",
    "country=[]\n",
    "source=[]\n",
    "industry=[]\n",
    "\n",
    "\n",
    "for i in driver.find_elements_by_xpath('//div[@class=\"rank\"]'):\n",
    "    rank.append(i.text)\n",
    "    \n",
    "for i in driver.find_elements_by_xpath('//div[@class=\"personName\"]'):\n",
    "    name.append(i.text)\n",
    "    \n",
    "for i in driver.find_elements_by_xpath('//div[@class=\"netWorth\"]'):\n",
    "    worth.append(i.text)\n",
    "    \n",
    "for i in driver.find_elements_by_xpath('//div[@class=\"age\"]'):\n",
    "    age.append(i.text)\n",
    "    \n",
    "for i in driver.find_elements_by_xpath('//div[@class=\"countryOfCitizenship\"]'):\n",
    "    country.append(i.text)\n",
    "    \n",
    "for i in driver.find_elements_by_xpath('//div[@class=\"source\"]'):\n",
    "    source.append(i.text)\n",
    "    \n",
    "for i in driver.find_elements_by_xpath('//div[@class=\"category\"]'):\n",
    "    industry.append(i.text)\n",
    "nxt=driver.find_elements_by_xpath('//div[@class=\"pagination\"]//button//div[@class=\"next-page\"]//i')  \n",
    "nxt.click()"
   ]
  },
  {
   "cell_type": "code",
   "execution_count": null,
   "id": "e1665e64",
   "metadata": {},
   "outputs": [],
   "source": [
    "# que 9\n",
    "url='https://www.youtube.com/'\n",
    "driver.get(url)"
   ]
  },
  {
   "cell_type": "code",
   "execution_count": null,
   "id": "c31c8011",
   "metadata": {},
   "outputs": [],
   "source": [
    "video=driver.find_element_by_id(\"video-title-link\")\n",
    "href=video.get_attribute('href')"
   ]
  },
  {
   "cell_type": "code",
   "execution_count": null,
   "id": "d6bfb1cf",
   "metadata": {},
   "outputs": [],
   "source": [
    "driver.get(href)\n",
    "time.sleep(5)\n",
    "\n",
    "pause=driver.find_elements_by_xpath('//button[@class=\"ytp-play-button ytp-button\"]')\n",
    "pause.click()\n",
    "\n"
   ]
  },
  {
   "cell_type": "code",
   "execution_count": null,
   "id": "c4dacab2",
   "metadata": {},
   "outputs": [],
   "source": [
    "# que 10\n",
    "\n",
    "url='https://www.hostelworld.com/'\n",
    "driver.get(url)\n",
    "time.sleep(3)\n",
    "\n",
    "img=driver.find_element_by_xpath('//div[@class=\"card\"]//a[@title=\"London Hostels\"]')\n",
    "img.click()"
   ]
  },
  {
   "cell_type": "code",
   "execution_count": null,
   "id": "02d228ad",
   "metadata": {},
   "outputs": [],
   "source": [
    "href=driver.find_element_by_xpath('//wds-button//a[@class=\"button-native sc-wds-button\"]')\n",
    "show=href.get_attribute('href')"
   ]
  },
  {
   "cell_type": "code",
   "execution_count": null,
   "id": "d9113a01",
   "metadata": {},
   "outputs": [],
   "source": [
    "driver.get(show)"
   ]
  },
  {
   "cell_type": "code",
   "execution_count": null,
   "id": "b51db2c3",
   "metadata": {},
   "outputs": [],
   "source": [
    "name=[]\n",
    "distance=[]\n",
    "rating=[]\n",
    "total_review=[]\n",
    "overall_review=[]\n",
    "privates=[]\n",
    "dorms=[]\n",
    "\n",
    "for i in driver.find_elements_by_class_name(\"title title-6\"):\n",
    "    name.append(i.text)\n",
    "for i in driver.find_elements_by_class_name(\"description\"):\n",
    "    distance.append(i.text.split(\"-\")[1])\n",
    "for i in driver.find_elements_by_xpath('//div[@class=\"keyword\"]//span'):\n",
    "    overall_review.append(i.text)\n",
    "for i in driver.find_elements_by_xpath('//div[@class=\"score orange big\"]'):\n",
    "    rating.append(i.text)\n",
    "for i in driver.find_elements_by_xpath('//div[@class=\"reviews\"]'):\n",
    "    total_review.append(i.text)\n",
    "for i in driver.find_elements_by_xpath('/html/body/div[3]/div/div/div[1]/div[4]/div/div/div[2]/div[3]/a[1]/div[1]/div'):\n",
    "    if i.text is None:\n",
    "        privates.append('-')\n",
    "    else:\n",
    "        privates.append(i.text)\n",
    "for i in driver.find_elements_by_xpath('/html/body/div[3]/div/div/div[1]/div[4]/div/div/div[2]/div[3]/a[1]/div[2]/div'):\n",
    "    if i.text is None:\n",
    "        dorms.append('-')\n",
    "    else:\n",
    "        dorms.append(i.text)\n",
    "nxt=driver.find_element_by_xpath('//i[@class=\"core-icon icon-core-chevron-right\"]')\n",
    "nxt.click()\n",
    "    "
   ]
  },
  {
   "cell_type": "code",
   "execution_count": null,
   "id": "36447cb2",
   "metadata": {},
   "outputs": [],
   "source": []
  }
 ],
 "metadata": {
  "kernelspec": {
   "display_name": "Python 3 (ipykernel)",
   "language": "python",
   "name": "python3"
  },
  "language_info": {
   "codemirror_mode": {
    "name": "ipython",
    "version": 3
   },
   "file_extension": ".py",
   "mimetype": "text/x-python",
   "name": "python",
   "nbconvert_exporter": "python",
   "pygments_lexer": "ipython3",
   "version": "3.9.7"
  }
 },
 "nbformat": 4,
 "nbformat_minor": 5
}
