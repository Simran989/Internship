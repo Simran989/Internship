{
 "cells": [
  {
   "cell_type": "markdown",
   "id": "5f3771c1",
   "metadata": {},
   "source": [
    "# Web Scraping Assignment - 3"
   ]
  },
  {
   "cell_type": "markdown",
   "id": "4e8c8a52",
   "metadata": {},
   "source": [
    "Question No.1 :\n",
    "Write a python program which searches all the product under a particular product vertical from www.amazon.in. The product verticals to be searched will be taken as input from user. For e.g. If user input is ‘guitar’.Then search for guitars."
   ]
  },
  {
   "cell_type": "code",
   "execution_count": 29,
   "id": "f412b76b",
   "metadata": {},
   "outputs": [],
   "source": [
    "# Let's import the necessary libraries for scraping\n",
    "\n",
    "#importing all liabraries\n",
    "import pandas as pd\n",
    "import numpy as np\n",
    "import selenium\n",
    "from selenium import webdriver\n",
    "import warnings \n",
    "warnings.filterwarnings(\"ignore\")\n",
    "from selenium.webdriver.common.by import By\n",
    "from selenium.common.exceptions import NoSuchElementException, StaleElementReferenceException\n",
    "import time"
   ]
  },
  {
   "cell_type": "code",
   "execution_count": 30,
   "id": "9fdffe5f",
   "metadata": {},
   "outputs": [],
   "source": [
    "# connecting to the browser\n",
    "driver=webdriver.Chrome(r\"C:\\Users\\USER\\Downloads\\chromedriver_win32 (2)\\chromedriver.exe\")\n",
    "\n"
   ]
  },
  {
   "cell_type": "code",
   "execution_count": 31,
   "id": "d39fa1d1",
   "metadata": {},
   "outputs": [],
   "source": [
    "# open the url www.amazon.in\n",
    "url = \"https://amazon.in\"\n",
    "driver.get(url)"
   ]
  },
  {
   "cell_type": "code",
   "execution_count": 33,
   "id": "f179956c",
   "metadata": {},
   "outputs": [
    {
     "name": "stdout",
     "output_type": "stream",
     "text": [
      "Enter your requirmentguitar\n"
     ]
    }
   ],
   "source": [
    "inp=driver.find_element(By.ID,'twotabsearchtextbox')\n",
    "subject=input('Enter your requirment')\n",
    "inp.send_keys(subject)"
   ]
  },
  {
   "cell_type": "code",
   "execution_count": 35,
   "id": "c04a247b",
   "metadata": {},
   "outputs": [],
   "source": [
    "search=driver.find_element(By.ID,'nav-search-submit-button')\n",
    "search.click()"
   ]
  },
  {
   "cell_type": "code",
   "execution_count": 37,
   "id": "2e4c08c8",
   "metadata": {},
   "outputs": [],
   "source": [
    "#que 2\n",
    "URL = []\n",
    "for r in range(3):\n",
    "    urls=driver.find_elements(By.XPATH,'//a[@class=\"a-link-normal s-underline-text s-underline-link-text s-link-style a-text-normal\"]')#tyle a-text-normalcollecting urls of all the laptop\n",
    "    for i in urls:\n",
    "        URL.append(i.get_attribute('href'))\n",
    "    \n",
    "    #click next page\n",
    "    try:\n",
    "        driver.find_element(By.XPATH,'//span[@class=\"s-pagination-strip\"]//a[@class=\"s-pagination-item s-pagination-next s-pagination-button s-pagination-separator\"]').click()\n",
    "    except:\n",
    "        nxt=driver.find_element(By.XPATH,'//a[@class=\"s-pagination-item s-pagination-next s-pagination-button s-pagination-separator\"]')\n",
    "        nxt.click()\n",
    "    time.sleep(3)"
   ]
  },
  {
   "cell_type": "code",
   "execution_count": 38,
   "id": "201ce7b4",
   "metadata": {},
   "outputs": [
    {
     "data": {
      "text/plain": [
       "159"
      ]
     },
     "execution_count": 38,
     "metadata": {},
     "output_type": "execute_result"
    }
   ],
   "source": [
    "len(URL)"
   ]
  },
  {
   "cell_type": "code",
   "execution_count": 39,
   "id": "6baa3674",
   "metadata": {},
   "outputs": [
    {
     "name": "stdout",
     "output_type": "stream",
     "text": [
      "succesful scrap\n"
     ]
    }
   ],
   "source": [
    "brand=[]\n",
    "name=[]\n",
    "price=[]\n",
    "delivery=[]\n",
    "return_ex=[]\n",
    "available=[]\n",
    "URL=URL[:5]  #just try for 5 searches but not able to get the proper results\n",
    "\n",
    "\n",
    "    \n",
    "for url in URL:\n",
    "    driver.get(url)\n",
    "    time.sleep(2)\n",
    "    \n",
    "    for i in driver.find_elements(By.XPATH,'//table[@class=\"a-normal a-spacing-micro\"]//tbody//tr[1]//td[2]//span'):\n",
    "        if i.text is None:\n",
    "            brand.append('--')\n",
    "        else:\n",
    "            brand.append(i.text)\n",
    "    \n",
    "    for i in driver.find_elements(By.ID,\"productTitle\"):\n",
    "        if i.text is None:\n",
    "            name.append('--')\n",
    "        else:\n",
    "            name.append(i.text)\n",
    "            \n",
    "    for i in driver.find_elements(By.XPATH,'//table[@class=\"a-lineitem a-align-top\"]//tbody//tr//td//span//span[@class=\"a-offscreen\"]'):\n",
    "        if i.text is None:\n",
    "            price.append('--')\n",
    "        else:\n",
    "            price.append(i.text)    \n",
    "    \n",
    "    try:\n",
    "        available.append(driver.find_elements(By.XPATH,'//div[@id=\"availability\"]//span').text)\n",
    "    except:\n",
    "        available.append('-')\n",
    "    \n",
    "    try:\n",
    "        return_ex.append(driver.find_elements(By.ID,\"productSupportAndReturnPolicy-return-policy-anchor-text\").text)\n",
    "    except:\n",
    "        return_ex.append('-')\n",
    "       \n",
    "    try:\n",
    "        delivery.append(driver.find_elements(By.XPATH,'//div[@class=\"a-spacing-base\"]//span//span').text)\n",
    "    except:\n",
    "        delivery.append('-')\n",
    "        time.sleep(3)\n",
    "        \n",
    "print('succesful scrap')"
   ]
  },
  {
   "cell_type": "code",
   "execution_count": 44,
   "id": "c88b1135",
   "metadata": {},
   "outputs": [
    {
     "data": {
      "text/plain": [
       "[]"
      ]
     },
     "execution_count": 44,
     "metadata": {},
     "output_type": "execute_result"
    }
   ],
   "source": [
    "price"
   ]
  },
  {
   "cell_type": "code",
   "execution_count": null,
   "id": "3e651789",
   "metadata": {},
   "outputs": [],
   "source": [
    "que2=pd.DataFrame({'Brand Name':brand,'Name':name,'Availability':available,'Return/Exchange':return_ex,'Delivery':delivery,\n",
    "                 'Price':price,'Product_url':URL})\n",
    "que2"
   ]
  },
  {
   "cell_type": "code",
   "execution_count": 45,
   "id": "0b79aac6",
   "metadata": {},
   "outputs": [],
   "source": [
    "#que 3\n",
    "\n",
    "url='https://images.google.com/'\n",
    "driver.get(url)"
   ]
  },
  {
   "cell_type": "code",
   "execution_count": 47,
   "id": "09a3bc5f",
   "metadata": {},
   "outputs": [
    {
     "name": "stdout",
     "output_type": "stream",
     "text": [
      "Enter the Keyword: fruit\n"
     ]
    }
   ],
   "source": [
    "bar=driver.find_element(By.XPATH,'//input[@class=\"gLFyf gsfi\"]')\n",
    "se=input('Enter the Keyword: ')\n",
    "bar.send_keys(se)"
   ]
  },
  {
   "cell_type": "code",
   "execution_count": 53,
   "id": "c8975f9b",
   "metadata": {},
   "outputs": [],
   "source": [
    "search=driver.find_element(By.XPATH,'//span[@class=\"z1asCe MZy1Rb\"]')\n",
    "search.click()"
   ]
  },
  {
   "cell_type": "code",
   "execution_count": 55,
   "id": "2affc3aa",
   "metadata": {},
   "outputs": [],
   "source": [
    "url=[]\n",
    "for i in driver.find_elements(By.XPATH,'//img[@class=\"rg_i Q4LuWd\"]'):\n",
    "    url.append(i.get_attribute('src'))\n",
    "\n",
    "url=url[:9]\n",
    "for i in url:\n",
    "    driver.get(i)"
   ]
  },
  {
   "cell_type": "code",
   "execution_count": 77,
   "id": "da4e8c55",
   "metadata": {},
   "outputs": [],
   "source": [
    "# connecting to the browser\n",
    "driver=webdriver.Chrome(r\"C:\\Users\\USER\\Downloads\\chromedriver_win32 (2)\\chromedriver.exe\")\n",
    "\n"
   ]
  },
  {
   "cell_type": "code",
   "execution_count": 78,
   "id": "4dfdb504",
   "metadata": {},
   "outputs": [],
   "source": [
    "#que 6\n",
    "url='https://trak.in/'\n",
    "driver.get(url)\n",
    "time.sleep(5)"
   ]
  },
  {
   "cell_type": "code",
   "execution_count": 83,
   "id": "1c40f689",
   "metadata": {},
   "outputs": [],
   "source": [
    "funding=driver.find_elements(By.XPATH,'//a[@title=\"http://trak.in/india-startup-funding-investment-2015/\"]')\n"
   ]
  },
  {
   "cell_type": "code",
   "execution_count": 87,
   "id": "bc40e422",
   "metadata": {},
   "outputs": [],
   "source": [
    "date=driver.find_elements(By.XPATH,'//tbody/tr/td[2]')\n",
    "stname=driver.find_elements(By.XPATH,'//tbody/tr/td[3]')\n",
    "ind=driver.find_elements(By.XPATH,'//tbody/tr/td[4]')\n",
    "sub=driver.find_elements(By.XPATH,'//tbody/tr/td[5]')\n",
    "city=driver.find_elements(By.XPATH,'//tbody/tr/td[6]')\n",
    "inv=driver.find_elements(By.XPATH,'//tbody/tr/td[7]')\n",
    "invt=driver.find_elements(By.XPATH,'//tbody/tr/td[8]')\n",
    "amount=driver.find_elements(By.XPATH,'//tbody/tr/td[9]')\n",
    "\n",
    "funding=[]\n",
    "for i in range(len(city)):\n",
    "    temp={'Date':date[i].text,'Startup Name':stname[i].text,'Industy':ind[i].text,\n",
    "          'Sub-vertical':sub[i].text, 'City':city[i].text,'Investor':inv[i].text,\n",
    "          'Investment type':invt[i].text,'Amount(USD)':amount[i].text}\n",
    "    \n",
    "    funding.append(temp)"
   ]
  },
  {
   "cell_type": "code",
   "execution_count": 88,
   "id": "23646e0a",
   "metadata": {},
   "outputs": [],
   "source": [
    "funding=funding[5:29]"
   ]
  },
  {
   "cell_type": "code",
   "execution_count": 89,
   "id": "faaadd39",
   "metadata": {
    "collapsed": true
   },
   "outputs": [
    {
     "data": {
      "text/html": [
       "<div>\n",
       "<style scoped>\n",
       "    .dataframe tbody tr th:only-of-type {\n",
       "        vertical-align: middle;\n",
       "    }\n",
       "\n",
       "    .dataframe tbody tr th {\n",
       "        vertical-align: top;\n",
       "    }\n",
       "\n",
       "    .dataframe thead th {\n",
       "        text-align: right;\n",
       "    }\n",
       "</style>\n",
       "<table border=\"1\" class=\"dataframe\">\n",
       "  <thead>\n",
       "    <tr style=\"text-align: right;\">\n",
       "      <th></th>\n",
       "    </tr>\n",
       "  </thead>\n",
       "  <tbody>\n",
       "  </tbody>\n",
       "</table>\n",
       "</div>"
      ],
      "text/plain": [
       "Empty DataFrame\n",
       "Columns: []\n",
       "Index: []"
      ]
     },
     "execution_count": 89,
     "metadata": {},
     "output_type": "execute_result"
    }
   ],
   "source": [
    "df=pd.DataFrame(funding)\n",
    "df"
   ]
  },
  {
   "cell_type": "code",
   "execution_count": 90,
   "id": "f2016ce8",
   "metadata": {},
   "outputs": [],
   "source": [
    "#que 7\n",
    "\n",
    "url='https://www.digit.in'\n",
    "driver.get(url)"
   ]
  },
  {
   "cell_type": "code",
   "execution_count": 91,
   "id": "33ec26a1",
   "metadata": {},
   "outputs": [],
   "source": [
    "driver.find_element(By.XPATH,'//div[@class=\"menu\"]/ul/li[3]/a').click()\n",
    "time.sleep(3)"
   ]
  },
  {
   "cell_type": "code",
   "execution_count": 94,
   "id": "de27ace5",
   "metadata": {},
   "outputs": [],
   "source": [
    "try:\n",
    "    ele=driver.find_element(By.XPATH,'//div[@class=\"Listbrand\"]/ul/li[10]/a')\n",
    "    driver.execute_script(\"arguments[0].click();\", ele)\n",
    "except ElementClickInterceptedException as e:\n",
    "    src= driver.find_element(By.XPATH,'//div[@class=\"Listbrand\"]/ul/li[10]/a').get_attribute('src')\n",
    "    driver.get(src)"
   ]
  },
  {
   "cell_type": "code",
   "execution_count": 95,
   "id": "e47e4b44",
   "metadata": {},
   "outputs": [],
   "source": [
    "product_url=[]\n",
    "url=driver.find_elements(By.XPATH,'//div[@class=\"TopNumbeHeading active sticky-footer\"]/a')\n",
    "for i in url:\n",
    "    product_url.append(i.get_attribute('href'))"
   ]
  },
  {
   "cell_type": "code",
   "execution_count": 97,
   "id": "3c24e3c1",
   "metadata": {},
   "outputs": [],
   "source": [
    "name=[]\n",
    "os=[]\n",
    "display=[]\n",
    "processor=[]\n",
    "memory=[]\n",
    "market_status=[]\n",
    "release_date=[]\n",
    "price=[]\n",
    "official_website=[]\n",
    "\n",
    "for i in product_url:\n",
    "    driver.get(i)\n",
    "    time.sleep(4)\n",
    "    for i in driver.find_elements_by_xpath('//div[@class=\"heading-wraper\"]/h1'):\n",
    "        name.append(i.text)\n",
    "    for i in driver.find_elements_by_xpath('/html/body/div[3]/div[2]/div[3]/div[3]/div[3]/div/ul/li[1]/div/p[2]/strong'):\n",
    "        os.append(i.text)\n",
    "    for i in driver.find_elements_by_xpath('/html/body/div[3]/div[2]/div[3]/div[3]/div[3]/div/ul/li[2]/div/p[2]/strong'):\n",
    "        display.append(i.text)\n",
    "    for i in driver.find_elements_by_xpath('/html/body/div[3]/div[2]/div[3]/div[3]/div[3]/div/ul/li[3]/div/p[2]/strong'):\n",
    "        processor.append(i.text)\n",
    "    for i in driver.find_elements_by_xpath('/html/body/div[3]/div[2]/div[3]/div[3]/div[3]/div/ul/li[4]/div/p[2]/strong'):\n",
    "        memory.append(i.text)\n",
    "    for i in driver.find_elements_by_xpath('//strong[@class=\"red\"]'):\n",
    "        market_status.append(i.text)\n",
    "    for i in driver.find_elements_by_xpath('/html/body/div[3]/div[2]/div[3]/div[3]/div[1]/div[2]/strong'):\n",
    "        release_date.append(i.text)\n",
    "    for i in driver.find_elements_by_xpath('/html/body/div[3]/div[2]/div[3]/div[3]/div[1]/div[3]/strong'):\n",
    "        official_website.append(i.text)\n",
    "    for i in driver.find_elements_by_xpath('/html/body/div[3]/div[2]/div[3]/div[3]/div[4]/div/h2/strong'):\n",
    "        price.append(i.text)"
   ]
  },
  {
   "cell_type": "code",
   "execution_count": 98,
   "id": "79615336",
   "metadata": {
    "collapsed": true
   },
   "outputs": [
    {
     "data": {
      "text/html": [
       "<div>\n",
       "<style scoped>\n",
       "    .dataframe tbody tr th:only-of-type {\n",
       "        vertical-align: middle;\n",
       "    }\n",
       "\n",
       "    .dataframe tbody tr th {\n",
       "        vertical-align: top;\n",
       "    }\n",
       "\n",
       "    .dataframe thead th {\n",
       "        text-align: right;\n",
       "    }\n",
       "</style>\n",
       "<table border=\"1\" class=\"dataframe\">\n",
       "  <thead>\n",
       "    <tr style=\"text-align: right;\">\n",
       "      <th></th>\n",
       "      <th>Name</th>\n",
       "      <th>Operating System</th>\n",
       "      <th>Display</th>\n",
       "      <th>Processor</th>\n",
       "      <th>Memory</th>\n",
       "      <th>Market Status</th>\n",
       "      <th>Release Date</th>\n",
       "      <th>Official Website</th>\n",
       "      <th>Price</th>\n",
       "    </tr>\n",
       "  </thead>\n",
       "  <tbody>\n",
       "  </tbody>\n",
       "</table>\n",
       "</div>"
      ],
      "text/plain": [
       "Empty DataFrame\n",
       "Columns: [Name, Operating System, Display, Processor, Memory, Market Status, Release Date, Official Website, Price]\n",
       "Index: []"
      ]
     },
     "execution_count": 98,
     "metadata": {},
     "output_type": "execute_result"
    }
   ],
   "source": [
    "gaming_laptop=pd.DataFrame({'Name':name,'Operating System':os,'Display':display,'Processor':processor,\n",
    "                          'Memory':memory,'Market Status':market_status,'Release Date':release_date,\n",
    "                          'Official Website':official_website,'Price':price})\n",
    "gaming_laptop"
   ]
  },
  {
   "cell_type": "code",
   "execution_count": 99,
   "id": "cb45af75",
   "metadata": {},
   "outputs": [],
   "source": [
    "#que 4\n",
    "\n",
    "url='https://www.flipkart.com'\n",
    "driver.get(url)\n",
    "time.sleep(5)"
   ]
  },
  {
   "cell_type": "code",
   "execution_count": 100,
   "id": "33f77369",
   "metadata": {},
   "outputs": [],
   "source": [
    "try:\n",
    "    driver.find_element_by_xpath('//button[@class=\"_2KpZ6l _2doB4z\"]').click()\n",
    "except Exception:\n",
    "    pass"
   ]
  },
  {
   "cell_type": "code",
   "execution_count": 101,
   "id": "c1d72f31",
   "metadata": {
    "collapsed": true
   },
   "outputs": [
    {
     "ename": "ElementClickInterceptedException",
     "evalue": "Message: element click intercepted: Element <button class=\"L0Z3Pu\" type=\"submit\">...</button> is not clickable at point (556, 28). Other element would receive the click: <div class=\"_36HLxm col col-3-5\">...</div>\n  (Session info: chrome=106.0.5249.62)\nStacktrace:\nBacktrace:\n\tOrdinal0 [0x008ADF13+2219795]\n\tOrdinal0 [0x00842841+1779777]\n\tOrdinal0 [0x0075423D+803389]\n\tOrdinal0 [0x007899D4+1022420]\n\tOrdinal0 [0x007878C4+1013956]\n\tOrdinal0 [0x007854AB+1004715]\n\tOrdinal0 [0x00784117+999703]\n\tOrdinal0 [0x00779B76+957302]\n\tOrdinal0 [0x0079E7FC+1107964]\n\tOrdinal0 [0x007794B4+955572]\n\tOrdinal0 [0x0079EA14+1108500]\n\tOrdinal0 [0x007AF192+1175954]\n\tOrdinal0 [0x0079E616+1107478]\n\tOrdinal0 [0x00777F89+950153]\n\tOrdinal0 [0x00778F56+954198]\n\tGetHandleVerifier [0x00BA2CB2+3040210]\n\tGetHandleVerifier [0x00B92BB4+2974420]\n\tGetHandleVerifier [0x00946A0A+565546]\n\tGetHandleVerifier [0x00945680+560544]\n\tOrdinal0 [0x00849A5C+1808988]\n\tOrdinal0 [0x0084E3A8+1827752]\n\tOrdinal0 [0x0084E495+1827989]\n\tOrdinal0 [0x008580A4+1867940]\n\tBaseThreadInitThunk [0x75E56739+25]\n\tRtlGetFullPathName_UEx [0x77688FD2+1218]\n\tRtlGetFullPathName_UEx [0x77688F9D+1165]\n",
     "output_type": "error",
     "traceback": [
      "\u001b[1;31m---------------------------------------------------------------------------\u001b[0m",
      "\u001b[1;31mElementClickInterceptedException\u001b[0m          Traceback (most recent call last)",
      "\u001b[1;32m~\\AppData\\Local\\Temp/ipykernel_3584/684514143.py\u001b[0m in \u001b[0;36m<module>\u001b[1;34m\u001b[0m\n\u001b[0;32m      1\u001b[0m \u001b[0mdriver\u001b[0m\u001b[1;33m.\u001b[0m\u001b[0mfind_element\u001b[0m\u001b[1;33m(\u001b[0m\u001b[0mBy\u001b[0m\u001b[1;33m.\u001b[0m\u001b[0mXPATH\u001b[0m\u001b[1;33m,\u001b[0m\u001b[1;34m'//input[@class=\"_3704LK\"]'\u001b[0m\u001b[1;33m)\u001b[0m\u001b[1;33m.\u001b[0m\u001b[0msend_keys\u001b[0m\u001b[1;33m(\u001b[0m\u001b[1;34m'pixel 4A'\u001b[0m\u001b[1;33m)\u001b[0m\u001b[1;33m\u001b[0m\u001b[1;33m\u001b[0m\u001b[0m\n\u001b[1;32m----> 2\u001b[1;33m \u001b[0mdriver\u001b[0m\u001b[1;33m.\u001b[0m\u001b[0mfind_element\u001b[0m\u001b[1;33m(\u001b[0m\u001b[0mBy\u001b[0m\u001b[1;33m.\u001b[0m\u001b[0mXPATH\u001b[0m\u001b[1;33m,\u001b[0m\u001b[1;34m'//button[@class=\"L0Z3Pu\"]'\u001b[0m\u001b[1;33m)\u001b[0m\u001b[1;33m.\u001b[0m\u001b[0mclick\u001b[0m\u001b[1;33m(\u001b[0m\u001b[1;33m)\u001b[0m\u001b[1;33m\u001b[0m\u001b[1;33m\u001b[0m\u001b[0m\n\u001b[0m",
      "\u001b[1;32m~\\anaconda3\\lib\\site-packages\\selenium\\webdriver\\remote\\webelement.py\u001b[0m in \u001b[0;36mclick\u001b[1;34m(self)\u001b[0m\n\u001b[0;32m     86\u001b[0m     \u001b[1;32mdef\u001b[0m \u001b[0mclick\u001b[0m\u001b[1;33m(\u001b[0m\u001b[0mself\u001b[0m\u001b[1;33m)\u001b[0m \u001b[1;33m->\u001b[0m \u001b[1;32mNone\u001b[0m\u001b[1;33m:\u001b[0m\u001b[1;33m\u001b[0m\u001b[1;33m\u001b[0m\u001b[0m\n\u001b[0;32m     87\u001b[0m         \u001b[1;34m\"\"\"Clicks the element.\"\"\"\u001b[0m\u001b[1;33m\u001b[0m\u001b[1;33m\u001b[0m\u001b[0m\n\u001b[1;32m---> 88\u001b[1;33m         \u001b[0mself\u001b[0m\u001b[1;33m.\u001b[0m\u001b[0m_execute\u001b[0m\u001b[1;33m(\u001b[0m\u001b[0mCommand\u001b[0m\u001b[1;33m.\u001b[0m\u001b[0mCLICK_ELEMENT\u001b[0m\u001b[1;33m)\u001b[0m\u001b[1;33m\u001b[0m\u001b[1;33m\u001b[0m\u001b[0m\n\u001b[0m\u001b[0;32m     89\u001b[0m \u001b[1;33m\u001b[0m\u001b[0m\n\u001b[0;32m     90\u001b[0m     \u001b[1;32mdef\u001b[0m \u001b[0msubmit\u001b[0m\u001b[1;33m(\u001b[0m\u001b[0mself\u001b[0m\u001b[1;33m)\u001b[0m\u001b[1;33m:\u001b[0m\u001b[1;33m\u001b[0m\u001b[1;33m\u001b[0m\u001b[0m\n",
      "\u001b[1;32m~\\anaconda3\\lib\\site-packages\\selenium\\webdriver\\remote\\webelement.py\u001b[0m in \u001b[0;36m_execute\u001b[1;34m(self, command, params)\u001b[0m\n\u001b[0;32m    394\u001b[0m             \u001b[0mparams\u001b[0m \u001b[1;33m=\u001b[0m \u001b[1;33m{\u001b[0m\u001b[1;33m}\u001b[0m\u001b[1;33m\u001b[0m\u001b[1;33m\u001b[0m\u001b[0m\n\u001b[0;32m    395\u001b[0m         \u001b[0mparams\u001b[0m\u001b[1;33m[\u001b[0m\u001b[1;34m'id'\u001b[0m\u001b[1;33m]\u001b[0m \u001b[1;33m=\u001b[0m \u001b[0mself\u001b[0m\u001b[1;33m.\u001b[0m\u001b[0m_id\u001b[0m\u001b[1;33m\u001b[0m\u001b[1;33m\u001b[0m\u001b[0m\n\u001b[1;32m--> 396\u001b[1;33m         \u001b[1;32mreturn\u001b[0m \u001b[0mself\u001b[0m\u001b[1;33m.\u001b[0m\u001b[0m_parent\u001b[0m\u001b[1;33m.\u001b[0m\u001b[0mexecute\u001b[0m\u001b[1;33m(\u001b[0m\u001b[0mcommand\u001b[0m\u001b[1;33m,\u001b[0m \u001b[0mparams\u001b[0m\u001b[1;33m)\u001b[0m\u001b[1;33m\u001b[0m\u001b[1;33m\u001b[0m\u001b[0m\n\u001b[0m\u001b[0;32m    397\u001b[0m \u001b[1;33m\u001b[0m\u001b[0m\n\u001b[0;32m    398\u001b[0m     \u001b[1;32mdef\u001b[0m \u001b[0mfind_element\u001b[0m\u001b[1;33m(\u001b[0m\u001b[0mself\u001b[0m\u001b[1;33m,\u001b[0m \u001b[0mby\u001b[0m\u001b[1;33m=\u001b[0m\u001b[0mBy\u001b[0m\u001b[1;33m.\u001b[0m\u001b[0mID\u001b[0m\u001b[1;33m,\u001b[0m \u001b[0mvalue\u001b[0m\u001b[1;33m=\u001b[0m\u001b[1;32mNone\u001b[0m\u001b[1;33m)\u001b[0m \u001b[1;33m->\u001b[0m \u001b[0mWebElement\u001b[0m\u001b[1;33m:\u001b[0m\u001b[1;33m\u001b[0m\u001b[1;33m\u001b[0m\u001b[0m\n",
      "\u001b[1;32m~\\anaconda3\\lib\\site-packages\\selenium\\webdriver\\remote\\webdriver.py\u001b[0m in \u001b[0;36mexecute\u001b[1;34m(self, driver_command, params)\u001b[0m\n\u001b[0;32m    426\u001b[0m         \u001b[0mresponse\u001b[0m \u001b[1;33m=\u001b[0m \u001b[0mself\u001b[0m\u001b[1;33m.\u001b[0m\u001b[0mcommand_executor\u001b[0m\u001b[1;33m.\u001b[0m\u001b[0mexecute\u001b[0m\u001b[1;33m(\u001b[0m\u001b[0mdriver_command\u001b[0m\u001b[1;33m,\u001b[0m \u001b[0mparams\u001b[0m\u001b[1;33m)\u001b[0m\u001b[1;33m\u001b[0m\u001b[1;33m\u001b[0m\u001b[0m\n\u001b[0;32m    427\u001b[0m         \u001b[1;32mif\u001b[0m \u001b[0mresponse\u001b[0m\u001b[1;33m:\u001b[0m\u001b[1;33m\u001b[0m\u001b[1;33m\u001b[0m\u001b[0m\n\u001b[1;32m--> 428\u001b[1;33m             \u001b[0mself\u001b[0m\u001b[1;33m.\u001b[0m\u001b[0merror_handler\u001b[0m\u001b[1;33m.\u001b[0m\u001b[0mcheck_response\u001b[0m\u001b[1;33m(\u001b[0m\u001b[0mresponse\u001b[0m\u001b[1;33m)\u001b[0m\u001b[1;33m\u001b[0m\u001b[1;33m\u001b[0m\u001b[0m\n\u001b[0m\u001b[0;32m    429\u001b[0m             response['value'] = self._unwrap_value(\n\u001b[0;32m    430\u001b[0m                 response.get('value', None))\n",
      "\u001b[1;32m~\\anaconda3\\lib\\site-packages\\selenium\\webdriver\\remote\\errorhandler.py\u001b[0m in \u001b[0;36mcheck_response\u001b[1;34m(self, response)\u001b[0m\n\u001b[0;32m    241\u001b[0m                 \u001b[0malert_text\u001b[0m \u001b[1;33m=\u001b[0m \u001b[0mvalue\u001b[0m\u001b[1;33m[\u001b[0m\u001b[1;34m'alert'\u001b[0m\u001b[1;33m]\u001b[0m\u001b[1;33m.\u001b[0m\u001b[0mget\u001b[0m\u001b[1;33m(\u001b[0m\u001b[1;34m'text'\u001b[0m\u001b[1;33m)\u001b[0m\u001b[1;33m\u001b[0m\u001b[1;33m\u001b[0m\u001b[0m\n\u001b[0;32m    242\u001b[0m             \u001b[1;32mraise\u001b[0m \u001b[0mexception_class\u001b[0m\u001b[1;33m(\u001b[0m\u001b[0mmessage\u001b[0m\u001b[1;33m,\u001b[0m \u001b[0mscreen\u001b[0m\u001b[1;33m,\u001b[0m \u001b[0mstacktrace\u001b[0m\u001b[1;33m,\u001b[0m \u001b[0malert_text\u001b[0m\u001b[1;33m)\u001b[0m  \u001b[1;31m# type: ignore[call-arg]  # mypy is not smart enough here\u001b[0m\u001b[1;33m\u001b[0m\u001b[1;33m\u001b[0m\u001b[0m\n\u001b[1;32m--> 243\u001b[1;33m         \u001b[1;32mraise\u001b[0m \u001b[0mexception_class\u001b[0m\u001b[1;33m(\u001b[0m\u001b[0mmessage\u001b[0m\u001b[1;33m,\u001b[0m \u001b[0mscreen\u001b[0m\u001b[1;33m,\u001b[0m \u001b[0mstacktrace\u001b[0m\u001b[1;33m)\u001b[0m\u001b[1;33m\u001b[0m\u001b[1;33m\u001b[0m\u001b[0m\n\u001b[0m",
      "\u001b[1;31mElementClickInterceptedException\u001b[0m: Message: element click intercepted: Element <button class=\"L0Z3Pu\" type=\"submit\">...</button> is not clickable at point (556, 28). Other element would receive the click: <div class=\"_36HLxm col col-3-5\">...</div>\n  (Session info: chrome=106.0.5249.62)\nStacktrace:\nBacktrace:\n\tOrdinal0 [0x008ADF13+2219795]\n\tOrdinal0 [0x00842841+1779777]\n\tOrdinal0 [0x0075423D+803389]\n\tOrdinal0 [0x007899D4+1022420]\n\tOrdinal0 [0x007878C4+1013956]\n\tOrdinal0 [0x007854AB+1004715]\n\tOrdinal0 [0x00784117+999703]\n\tOrdinal0 [0x00779B76+957302]\n\tOrdinal0 [0x0079E7FC+1107964]\n\tOrdinal0 [0x007794B4+955572]\n\tOrdinal0 [0x0079EA14+1108500]\n\tOrdinal0 [0x007AF192+1175954]\n\tOrdinal0 [0x0079E616+1107478]\n\tOrdinal0 [0x00777F89+950153]\n\tOrdinal0 [0x00778F56+954198]\n\tGetHandleVerifier [0x00BA2CB2+3040210]\n\tGetHandleVerifier [0x00B92BB4+2974420]\n\tGetHandleVerifier [0x00946A0A+565546]\n\tGetHandleVerifier [0x00945680+560544]\n\tOrdinal0 [0x00849A5C+1808988]\n\tOrdinal0 [0x0084E3A8+1827752]\n\tOrdinal0 [0x0084E495+1827989]\n\tOrdinal0 [0x008580A4+1867940]\n\tBaseThreadInitThunk [0x75E56739+25]\n\tRtlGetFullPathName_UEx [0x77688FD2+1218]\n\tRtlGetFullPathName_UEx [0x77688F9D+1165]\n"
     ]
    }
   ],
   "source": [
    "driver.find_element(By.XPATH,'//input[@class=\"_3704LK\"]').send_keys('pixel 4A')\n",
    "driver.find_element(By.XPATH,'//button[@class=\"L0Z3Pu\"]').click()"
   ]
  },
  {
   "cell_type": "code",
   "execution_count": 102,
   "id": "0ab36653",
   "metadata": {
    "collapsed": true
   },
   "outputs": [
    {
     "ename": "AttributeError",
     "evalue": "'WebDriver' object has no attribute 'find_elements_by_xpath'",
     "output_type": "error",
     "traceback": [
      "\u001b[1;31m---------------------------------------------------------------------------\u001b[0m",
      "\u001b[1;31mAttributeError\u001b[0m                            Traceback (most recent call last)",
      "\u001b[1;32m~\\AppData\\Local\\Temp/ipykernel_3584/3298530460.py\u001b[0m in \u001b[0;36m<module>\u001b[1;34m\u001b[0m\n\u001b[0;32m      1\u001b[0m \u001b[0mproduct_urls\u001b[0m\u001b[1;33m=\u001b[0m\u001b[1;33m[\u001b[0m\u001b[1;33m]\u001b[0m\u001b[1;33m\u001b[0m\u001b[1;33m\u001b[0m\u001b[0m\n\u001b[1;32m----> 2\u001b[1;33m \u001b[0murl\u001b[0m\u001b[1;33m=\u001b[0m\u001b[0mdriver\u001b[0m\u001b[1;33m.\u001b[0m\u001b[0mfind_elements_by_xpath\u001b[0m\u001b[1;33m(\u001b[0m\u001b[1;34m'//a[@class=\"_1fQZEK\"]'\u001b[0m\u001b[1;33m)\u001b[0m\u001b[1;33m\u001b[0m\u001b[1;33m\u001b[0m\u001b[0m\n\u001b[0m\u001b[0;32m      3\u001b[0m \u001b[1;32mfor\u001b[0m \u001b[0mi\u001b[0m \u001b[1;32min\u001b[0m \u001b[0murl\u001b[0m\u001b[1;33m:\u001b[0m\u001b[1;33m\u001b[0m\u001b[1;33m\u001b[0m\u001b[0m\n\u001b[0;32m      4\u001b[0m     \u001b[0mproduct_urls\u001b[0m\u001b[1;33m.\u001b[0m\u001b[0mappend\u001b[0m\u001b[1;33m(\u001b[0m\u001b[0mi\u001b[0m\u001b[1;33m.\u001b[0m\u001b[0mget_attribute\u001b[0m\u001b[1;33m(\u001b[0m\u001b[1;34m'href'\u001b[0m\u001b[1;33m)\u001b[0m\u001b[1;33m)\u001b[0m\u001b[1;33m\u001b[0m\u001b[1;33m\u001b[0m\u001b[0m\n\u001b[0;32m      5\u001b[0m \u001b[1;33m\u001b[0m\u001b[0m\n",
      "\u001b[1;31mAttributeError\u001b[0m: 'WebDriver' object has no attribute 'find_elements_by_xpath'"
     ]
    }
   ],
   "source": [
    "product_urls=[]\n",
    "url=driver.find_elements_by_xpath('//a[@class=\"_1fQZEK\"]')\n",
    "for i in url:\n",
    "    product_urls.append(i.get_attribute('href'))\n",
    "    \n",
    "len(product_urls)"
   ]
  },
  {
   "cell_type": "code",
   "execution_count": 103,
   "id": "86c88ceb",
   "metadata": {},
   "outputs": [],
   "source": [
    "brand=[]\n",
    "name=[]\n",
    "color=[]\n",
    "ram=[]\n",
    "rom=[]\n",
    "primary_cam=[]\n",
    "secondary_cam=[]\n",
    "display=[]\n",
    "battery=[]\n",
    "price=[]\n",
    "\n",
    "\n",
    "for i in product_urls:\n",
    "    driver.get(i)\n",
    "    driver.find_element_by_xpath('//button[@class=\"_2KpZ6l _1FH0tX\"]').click()\n",
    "    \n",
    "    for i in driver.find_elements_by_xpath('//span[@class=\"B_NuCI\"]'):\n",
    "        brand.append(i.text.split(\" \",1)[0])\n",
    "        \n",
    "    for i in driver.find_elements_by_xpath('//div[@class=\"_4rR01T\"]'):\n",
    "        name.append(i.text.split(\"(\")[0])\n",
    "    \n",
    "    for i in driver.find_elements_by_xpath('//table[@class=\"_14cfVK\"]//tbody/tr[4]//td[2]'):\n",
    "        if i.text is None:\n",
    "            color.append('--')\n",
    "        else:\n",
    "            color.append(i.text.split(\"Yes\"))\n",
    "            \n",
    "    try:\n",
    "        ram.append(driver.find_elements_by_xpath('//div[@class=\"_2cM9lP\"]//div[@class=\"_2418kt\"]//ul//li[1]').text.split(\"|\")[0])\n",
    "    except:\n",
    "        ram.append('-')\n",
    "    try:\n",
    "        rom.append(driver.find_elements_by_xpath('//div[@class=\"_2cM9lP\"]//div[@class=\"_2418kt\"]//ul//li[1]').text.split(\"|\")[1])\n",
    "    except:\n",
    "        rom.append('-')\n",
    "    try:\n",
    "        primary_cam.append(driver.find_elements_by_xpath('/html/body/div[1]/div/div[3]/div[1]/div[2]/div[6]/div[1]/div/div[2]/ul/li[3]').text.split(\"|\")[0])\n",
    "    except:\n",
    "        primary_cam.append('-')\n",
    "    try:\n",
    "        secondary_cam.append(driver.find_elements_by_xpath('/html/body/div[1]/div/div[3]/div[1]/div[2]/div[6]/div[1]/div/div[2]/ul/li[3]').text.split(\"|\")[1])\n",
    "    except:\n",
    "        secondary_cam.append('-')\n",
    "    try:\n",
    "        display.append(driver.find_elements_by_xpath('/html/body/div[1]/div/div[3]/div[1]/div[2]/div[6]/div[1]/div/div[2]/ul/li[2]').text)\n",
    "    except:\n",
    "        display.append('-')\n",
    "    try:\n",
    "        battery.append(driver.find_elements_by_xpath('/html/body/div[1]/div/div[3]/div[1]/div[2]/div[6]/div[1]/div/div[2]/ul/li[4]').text)\n",
    "    except:\n",
    "        battery.append('-')\n",
    "    for i in driver.find_elements_by_xpath('//div[@class=\"_30jeq3 _16Jk6d\"]'):\n",
    "        price.append(i.text)"
   ]
  },
  {
   "cell_type": "code",
   "execution_count": 104,
   "id": "01ab4c98",
   "metadata": {
    "collapsed": true
   },
   "outputs": [
    {
     "data": {
      "text/html": [
       "<div>\n",
       "<style scoped>\n",
       "    .dataframe tbody tr th:only-of-type {\n",
       "        vertical-align: middle;\n",
       "    }\n",
       "\n",
       "    .dataframe tbody tr th {\n",
       "        vertical-align: top;\n",
       "    }\n",
       "\n",
       "    .dataframe thead th {\n",
       "        text-align: right;\n",
       "    }\n",
       "</style>\n",
       "<table border=\"1\" class=\"dataframe\">\n",
       "  <thead>\n",
       "    <tr style=\"text-align: right;\">\n",
       "      <th></th>\n",
       "      <th>Brand Name</th>\n",
       "      <th>Name</th>\n",
       "      <th>Color</th>\n",
       "      <th>RAM</th>\n",
       "      <th>ROM</th>\n",
       "      <th>Primary Camera</th>\n",
       "      <th>Secondary Camera</th>\n",
       "      <th>Display size</th>\n",
       "      <th>Battery</th>\n",
       "      <th>Price</th>\n",
       "    </tr>\n",
       "  </thead>\n",
       "  <tbody>\n",
       "  </tbody>\n",
       "</table>\n",
       "</div>"
      ],
      "text/plain": [
       "Empty DataFrame\n",
       "Columns: [Brand Name, Name, Color, RAM, ROM, Primary Camera, Secondary Camera, Display size, Battery, Price]\n",
       "Index: []"
      ]
     },
     "execution_count": 104,
     "metadata": {},
     "output_type": "execute_result"
    }
   ],
   "source": [
    "mobile=pd.DataFrame({'Brand Name':brand,'Name':name,'Color':color,'RAM':ram,'ROM':rom,'Primary Camera':primary_cam,'Secondary Camera':secondary_cam,'Display size':display,'Battery':battery,\n",
    "                    'Price':price})\n",
    "mobile"
   ]
  },
  {
   "cell_type": "code",
   "execution_count": 105,
   "id": "ad7b4c67",
   "metadata": {
    "collapsed": true
   },
   "outputs": [
    {
     "ename": "AttributeError",
     "evalue": "'WebDriver' object has no attribute 'find_element_by_id'",
     "output_type": "error",
     "traceback": [
      "\u001b[1;31m---------------------------------------------------------------------------\u001b[0m",
      "\u001b[1;31mAttributeError\u001b[0m                            Traceback (most recent call last)",
      "\u001b[1;32m~\\AppData\\Local\\Temp/ipykernel_3584/847136113.py\u001b[0m in \u001b[0;36m<module>\u001b[1;34m\u001b[0m\n\u001b[0;32m      5\u001b[0m \u001b[0mdriver\u001b[0m\u001b[1;33m.\u001b[0m\u001b[0mget\u001b[0m\u001b[1;33m(\u001b[0m\u001b[0murl\u001b[0m\u001b[1;33m)\u001b[0m\u001b[1;33m\u001b[0m\u001b[1;33m\u001b[0m\u001b[0m\n\u001b[0;32m      6\u001b[0m \u001b[0mtime\u001b[0m\u001b[1;33m.\u001b[0m\u001b[0msleep\u001b[0m\u001b[1;33m(\u001b[0m\u001b[1;36m4\u001b[0m\u001b[1;33m)\u001b[0m\u001b[1;33m\u001b[0m\u001b[1;33m\u001b[0m\u001b[0m\n\u001b[1;32m----> 7\u001b[1;33m \u001b[0minp\u001b[0m\u001b[1;33m=\u001b[0m\u001b[0mdriver\u001b[0m\u001b[1;33m.\u001b[0m\u001b[0mfind_element_by_id\u001b[0m\u001b[1;33m(\u001b[0m\u001b[1;34m\"searchboxinput\"\u001b[0m\u001b[1;33m)\u001b[0m\u001b[1;33m\u001b[0m\u001b[1;33m\u001b[0m\u001b[0m\n\u001b[0m\u001b[0;32m      8\u001b[0m \u001b[0mloc\u001b[0m\u001b[1;33m=\u001b[0m\u001b[0minput\u001b[0m\u001b[1;33m(\u001b[0m\u001b[1;34m\"Enter the City Name: \"\u001b[0m\u001b[1;33m)\u001b[0m\u001b[1;33m\u001b[0m\u001b[1;33m\u001b[0m\u001b[0m\n\u001b[0;32m      9\u001b[0m \u001b[0minp\u001b[0m\u001b[1;33m.\u001b[0m\u001b[0msend_keys\u001b[0m\u001b[1;33m(\u001b[0m\u001b[0mloc\u001b[0m\u001b[1;33m)\u001b[0m\u001b[1;33m\u001b[0m\u001b[1;33m\u001b[0m\u001b[0m\n",
      "\u001b[1;31mAttributeError\u001b[0m: 'WebDriver' object has no attribute 'find_element_by_id'"
     ]
    }
   ],
   "source": [
    "#que 5\n",
    "\n",
    "import time\n",
    "url='https://www.google.com/maps'\n",
    "driver.get(url)\n",
    "time.sleep(4)\n",
    "inp=driver.find_element_by_id(\"searchboxinput\")\n",
    "loc=input(\"Enter the City Name: \")\n",
    "inp.send_keys(loc)\n",
    "search=driver.find_element_by_id(\"searchbox-searchbutton\")\n",
    "search.click()\n",
    "\n",
    "from  geopy.geocoders import Nominatim\n",
    "geolocator = Nominatim(user_agent=\"jupyter\")\n",
    "\n",
    "location= geolocator.geocode(loc)\n",
    "print(\"latitude is :-\" ,location.latitude,\"\\nlongtitude is:-\" ,location.longitude)"
   ]
  },
  {
   "cell_type": "code",
   "execution_count": 106,
   "id": "58b24922",
   "metadata": {},
   "outputs": [
    {
     "ename": "AttributeError",
     "evalue": "'WebDriver' object has no attribute 'find_element_by_xpath'",
     "output_type": "error",
     "traceback": [
      "\u001b[1;31m---------------------------------------------------------------------------\u001b[0m",
      "\u001b[1;31mAttributeError\u001b[0m                            Traceback (most recent call last)",
      "\u001b[1;32m~\\AppData\\Local\\Temp/ipykernel_3584/3215569122.py\u001b[0m in \u001b[0;36m<module>\u001b[1;34m\u001b[0m\n\u001b[0;32m      7\u001b[0m \u001b[1;32mtry\u001b[0m\u001b[1;33m:\u001b[0m\u001b[1;33m\u001b[0m\u001b[1;33m\u001b[0m\u001b[0m\n\u001b[1;32m----> 8\u001b[1;33m     \u001b[0mbill\u001b[0m\u001b[1;33m=\u001b[0m\u001b[0mdriver\u001b[0m\u001b[1;33m.\u001b[0m\u001b[0mfind_element_by_xpath\u001b[0m\u001b[1;33m(\u001b[0m\u001b[1;34m'//div[@class=\"footer__nav\"]//a[2]'\u001b[0m\u001b[1;33m)\u001b[0m\u001b[1;33m\u001b[0m\u001b[1;33m\u001b[0m\u001b[0m\n\u001b[0m\u001b[0;32m      9\u001b[0m     \u001b[0mbill\u001b[0m\u001b[1;33m.\u001b[0m\u001b[0mclick\u001b[0m\u001b[1;33m(\u001b[0m\u001b[1;33m)\u001b[0m\u001b[1;33m\u001b[0m\u001b[1;33m\u001b[0m\u001b[0m\n",
      "\u001b[1;31mAttributeError\u001b[0m: 'WebDriver' object has no attribute 'find_element_by_xpath'",
      "\nDuring handling of the above exception, another exception occurred:\n",
      "\u001b[1;31mAttributeError\u001b[0m                            Traceback (most recent call last)",
      "\u001b[1;32m~\\AppData\\Local\\Temp/ipykernel_3584/3215569122.py\u001b[0m in \u001b[0;36m<module>\u001b[1;34m\u001b[0m\n\u001b[0;32m      9\u001b[0m     \u001b[0mbill\u001b[0m\u001b[1;33m.\u001b[0m\u001b[0mclick\u001b[0m\u001b[1;33m(\u001b[0m\u001b[1;33m)\u001b[0m\u001b[1;33m\u001b[0m\u001b[1;33m\u001b[0m\u001b[0m\n\u001b[0;32m     10\u001b[0m \u001b[1;32mexcept\u001b[0m\u001b[1;33m:\u001b[0m\u001b[1;33m\u001b[0m\u001b[1;33m\u001b[0m\u001b[0m\n\u001b[1;32m---> 11\u001b[1;33m     \u001b[0mbill\u001b[0m\u001b[1;33m=\u001b[0m\u001b[0mdriver\u001b[0m\u001b[1;33m.\u001b[0m\u001b[0mfind_element_by_xpath\u001b[0m\u001b[1;33m(\u001b[0m\u001b[1;34m'//a[@class=\"footer__nav-item\"]'\u001b[0m\u001b[1;33m)\u001b[0m\u001b[1;33m\u001b[0m\u001b[1;33m\u001b[0m\u001b[0m\n\u001b[0m\u001b[0;32m     12\u001b[0m     \u001b[0mbill\u001b[0m\u001b[1;33m.\u001b[0m\u001b[0mclick\u001b[0m\u001b[1;33m(\u001b[0m\u001b[1;33m)\u001b[0m\u001b[1;33m\u001b[0m\u001b[1;33m\u001b[0m\u001b[0m\n\u001b[0;32m     13\u001b[0m \u001b[1;33m\u001b[0m\u001b[0m\n",
      "\u001b[1;31mAttributeError\u001b[0m: 'WebDriver' object has no attribute 'find_element_by_xpath'"
     ]
    }
   ],
   "source": [
    "#que 8\n",
    "\n",
    "url='https://www.forbes.com'\n",
    "driver.get(url)\n",
    "time.sleep(5)\n",
    "\n",
    "try:\n",
    "    bill=driver.find_element_by_xpath('//div[@class=\"footer__nav\"]//a[2]')\n",
    "    bill.click()\n",
    "except:\n",
    "    bill=driver.find_element_by_xpath('//a[@class=\"footer__nav-item\"]')\n",
    "    bill.click()\n",
    "    \n",
    "li=driver.find_element_by_xpath('/html/body/div[1]/main/div/section/section[1]/div/div/div[1]/div/div[1]/div[1]/div[2]/a/h2')\n",
    "li.click()"
   ]
  },
  {
   "cell_type": "code",
   "execution_count": null,
   "id": "76b68f0f",
   "metadata": {},
   "outputs": [],
   "source": [
    "url=[]\n",
    "for i in driver.find_elements_by_class_name(\"goto-page__btn\"):\n",
    "    url.append(i)"
   ]
  },
  {
   "cell_type": "code",
   "execution_count": null,
   "id": "6c87e420",
   "metadata": {},
   "outputs": [],
   "source": [
    "rank=[]\n",
    "name=[]\n",
    "worth=[]\n",
    "age=[]\n",
    "country=[]\n",
    "source=[]\n",
    "industry=[]\n",
    "\n",
    "\n",
    "for i in driver.find_elements_by_xpath('//div[@class=\"rank\"]'):\n",
    "    rank.append(i.text)\n",
    "    \n",
    "for i in driver.find_elements_by_xpath('//div[@class=\"personName\"]'):\n",
    "    name.append(i.text)\n",
    "    \n",
    "for i in driver.find_elements_by_xpath('//div[@class=\"netWorth\"]'):\n",
    "    worth.append(i.text)\n",
    "    \n",
    "for i in driver.find_elements_by_xpath('//div[@class=\"age\"]'):\n",
    "    age.append(i.text)\n",
    "    \n",
    "for i in driver.find_elements_by_xpath('//div[@class=\"countryOfCitizenship\"]'):\n",
    "    country.append(i.text)\n",
    "    \n",
    "for i in driver.find_elements_by_xpath('//div[@class=\"source\"]'):\n",
    "    source.append(i.text)\n",
    "    \n",
    "for i in driver.find_elements_by_xpath('//div[@class=\"category\"]'):\n",
    "    industry.append(i.text)\n",
    "nxt=driver.find_elements_by_xpath('//div[@class=\"pagination\"]//button//div[@class=\"next-page\"]//i')  \n",
    "nxt.click()"
   ]
  },
  {
   "cell_type": "code",
   "execution_count": null,
   "id": "51059ca9",
   "metadata": {},
   "outputs": [],
   "source": [
    "# que 9\n",
    "url='https://www.youtube.com/'\n",
    "driver.get(url)\n",
    "\n",
    "video=driver.find_element_by_id(\"video-title-link\")\n",
    "href=video.get_attribute('href')\n",
    "\n",
    "driver.get(href)\n",
    "time.sleep(5)\n",
    "\n",
    "pause=driver.find_elements_by_xpath('//button[@class=\"ytp-play-button ytp-button\"]')\n",
    "pause.click()"
   ]
  },
  {
   "cell_type": "code",
   "execution_count": null,
   "id": "970a2817",
   "metadata": {},
   "outputs": [],
   "source": [
    "# que 10\n",
    "\n",
    "url='https://www.hostelworld.com/'\n",
    "driver.get(url)\n",
    "time.sleep(3)\n",
    "\n",
    "img=driver.find_element_by_xpath('//div[@class=\"card\"]//a[@title=\"London Hostels\"]')\n",
    "img.click()\n",
    "\n",
    "href=driver.find_element_by_xpath('//wds-button//a[@class=\"button-native sc-wds-button\"]')\n",
    "show=href.get_attribute('href')\n",
    "\n",
    "driver.get(show)\n",
    "\n",
    "name=[]\n",
    "distance=[]\n",
    "rating=[]\n",
    "total_review=[]\n",
    "overall_review=[]\n",
    "privates=[]\n",
    "dorms=[]\n",
    "\n",
    "for i in driver.find_elements_by_class_name(\"title title-6\"):\n",
    "    name.append(i.text)\n",
    "for i in driver.find_elements_by_class_name(\"description\"):\n",
    "    distance.append(i.text.split(\"-\")[1])\n",
    "for i in driver.find_elements_by_xpath('//div[@class=\"keyword\"]//span'):\n",
    "    overall_review.append(i.text)\n",
    "for i in driver.find_elements_by_xpath('//div[@class=\"score orange big\"]'):\n",
    "    rating.append(i.text)\n",
    "for i in driver.find_elements_by_xpath('//div[@class=\"reviews\"]'):\n",
    "    total_review.append(i.text)\n",
    "for i in driver.find_elements_by_xpath('/html/body/div[3]/div/div/div[1]/div[4]/div/div/div[2]/div[3]/a[1]/div[1]/div'):\n",
    "    if i.text is None:\n",
    "        privates.append('-')\n",
    "    else:\n",
    "        privates.append(i.text)\n",
    "for i in driver.find_elements_by_xpath('/html/body/div[3]/div/div/div[1]/div[4]/div/div/div[2]/div[3]/a[1]/div[2]/div'):\n",
    "    if i.text is None:\n",
    "        dorms.append('-')\n",
    "    else:\n",
    "        dorms.append(i.text)\n",
    "nxt=driver.find_element_by_xpath('//i[@class=\"core-icon icon-core-chevron-right\"]')\n",
    "nxt.click()\n",
    "    \n"
   ]
  }
 ],
 "metadata": {
  "kernelspec": {
   "display_name": "Python 3 (ipykernel)",
   "language": "python",
   "name": "python3"
  },
  "language_info": {
   "codemirror_mode": {
    "name": "ipython",
    "version": 3
   },
   "file_extension": ".py",
   "mimetype": "text/x-python",
   "name": "python",
   "nbconvert_exporter": "python",
   "pygments_lexer": "ipython3",
   "version": "3.9.7"
  }
 },
 "nbformat": 4,
 "nbformat_minor": 5
}
