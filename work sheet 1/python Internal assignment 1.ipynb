{
 "cells": [
  {
   "cell_type": "markdown",
   "id": "0859207a",
   "metadata": {},
   "source": [
    "# PYTHON – WORKSHEET \n"
   ]
  },
  {
   "cell_type": "raw",
   "id": "731e5fca",
   "metadata": {},
   "source": [
    "# 1. Which of the following operators is used to calculate remainder in a division?\n",
    "A) # B) & C) % D) $\n",
    "Ans:- C) %"
   ]
  },
  {
   "cell_type": "raw",
   "id": "6621a44a",
   "metadata": {},
   "source": [
    "#2. In python 2//3 is equal to?\n",
    "A) 0.666 B) 0 C) 1 D) 0.67\n",
    "Ans:- B) 0\n"
   ]
  },
  {
   "cell_type": "raw",
   "id": "d4dbb672",
   "metadata": {},
   "source": [
    "#3. In python, 6<<2 is equal to?\n",
    "A) 36 B) 10 C) 24 D) 45\n",
    " Ans:- C) 24\n"
   ]
  },
  {
   "cell_type": "code",
   "execution_count": 1,
   "id": "87272676",
   "metadata": {},
   "outputs": [
    {
     "data": {
      "text/plain": [
       "24"
      ]
     },
     "execution_count": 1,
     "metadata": {},
     "output_type": "execute_result"
    }
   ],
   "source": [
    "6<<2"
   ]
  },
  {
   "cell_type": "raw",
   "id": "8b5d1596",
   "metadata": {},
   "source": [
    "#4. In python, 6&2 will give which of the following as output?\n",
    "A) 2 B) True C) False D) 0\n",
    "Ans:A) 2\n"
   ]
  },
  {
   "cell_type": "code",
   "execution_count": 2,
   "id": "df8e3f1d",
   "metadata": {},
   "outputs": [
    {
     "data": {
      "text/plain": [
       "2"
      ]
     },
     "execution_count": 2,
     "metadata": {},
     "output_type": "execute_result"
    }
   ],
   "source": [
    "6&2"
   ]
  },
  {
   "cell_type": "raw",
   "id": "77486755",
   "metadata": {},
   "source": [
    "#5. In python, 6|2 will give which of the following as output?\n",
    "A) 2 B) 4 C) 0 D) 6\n",
    "Ans:-D) 6\n"
   ]
  },
  {
   "cell_type": "code",
   "execution_count": 3,
   "id": "62699696",
   "metadata": {},
   "outputs": [
    {
     "data": {
      "text/plain": [
       "6"
      ]
     },
     "execution_count": 3,
     "metadata": {},
     "output_type": "execute_result"
    }
   ],
   "source": [
    "6|2"
   ]
  },
  {
   "cell_type": "raw",
   "id": "4bc43d98",
   "metadata": {},
   "source": [
    "#6. What does the finally keyword denotes in python?\n",
    "A) It is used to mark the end of the code\n",
    "B) It encloses the lines of code which will be executed if any error occurs while executing the lines of code in the try block.\n",
    "C) the finally block will be executed no matter if the try block raises an error or not.\n",
    "D) None of the above\n",
    "Ans:- C) the finally block will be executed no matter if the try block raises an error or not.\n"
   ]
  },
  {
   "cell_type": "raw",
   "id": "b4e62f68",
   "metadata": {},
   "source": [
    "#7. What does raise keyword is used for in python?\n",
    "A) It is used to raise an exception. B) It is used to define lambda function\n",
    "C) it's not a keyword in python. D) None of the above\n",
    "Ans:- A) It is used to raise an exception\n"
   ]
  },
  {
   "cell_type": "raw",
   "id": "13010b53",
   "metadata": {},
   "source": [
    "#8. Which of the following is a common use case of yield keyword in python?\n",
    "A) in defining an iterator B) while defining a lambda function\n",
    "C) in defining a generator D) in for loop.\n",
    "Ans:- C) in defining a generator\n"
   ]
  },
  {
   "cell_type": "raw",
   "id": "e87d25e6",
   "metadata": {},
   "source": [
    "#9. Which of the following are the valid variable names?\n",
    "A) _abc  B) 1abc\n",
    "C) abc2  D) None of the above\n",
    "Ans:- A) _abc and C) abc2\n"
   ]
  },
  {
   "cell_type": "raw",
   "id": "41643e5f",
   "metadata": {},
   "source": [
    "#10. Which of the following are the keywords in python?\n",
    "A) yield  B) raise\n",
    "C) look-in  D) all of the above\n",
    "Ans:- A) yield and B) raise\n"
   ]
  },
  {
   "cell_type": "code",
   "execution_count": null,
   "id": "30fd3fb1",
   "metadata": {},
   "outputs": [],
   "source": []
  },
  {
   "cell_type": "code",
   "execution_count": 5,
   "id": "1b515363",
   "metadata": {},
   "outputs": [],
   "source": [
    "#11. Write a python program to find the factorial of a number."
   ]
  },
  {
   "cell_type": "code",
   "execution_count": 7,
   "id": "fd14e957",
   "metadata": {},
   "outputs": [
    {
     "name": "stdout",
     "output_type": "stream",
     "text": [
      "Enter a number: 3\n",
      "The factorial of 3 is 6\n"
     ]
    }
   ],
   "source": [
    "num = int(input(\"Enter a number: \"))\n",
    "factorial = 1\n",
    "if num == 0:\n",
    "   print(\"The factorial of 0 is 1\")\n",
    "else:\n",
    "   for i in range(1,num + 1):\n",
    "       factorial = factorial*i\n",
    "   print(\"The factorial of\",num,\"is\",factorial)"
   ]
  },
  {
   "cell_type": "code",
   "execution_count": null,
   "id": "3f3cd844",
   "metadata": {},
   "outputs": [],
   "source": []
  },
  {
   "cell_type": "code",
   "execution_count": null,
   "id": "d9c9b2bc",
   "metadata": {},
   "outputs": [],
   "source": [
    "#12. Write a python program to find whether a number is prime or composite."
   ]
  },
  {
   "cell_type": "code",
   "execution_count": 8,
   "id": "521acde7",
   "metadata": {},
   "outputs": [
    {
     "name": "stdout",
     "output_type": "stream",
     "text": [
      "Enter a number: 39\n",
      "39 is composite\n"
     ]
    }
   ],
   "source": [
    "num = int(input(\"Enter a number: \"))\n",
    "if num > 1:\n",
    "    for i in range(2,int(num/2)):\n",
    "        if(num%i) == 0:\n",
    "            print(str(num) + \" is composite\")\n",
    "            break;\n",
    "    else:\n",
    "        print(str(num) + \" is prime\")\n"
   ]
  },
  {
   "cell_type": "code",
   "execution_count": null,
   "id": "3664a38f",
   "metadata": {},
   "outputs": [],
   "source": []
  },
  {
   "cell_type": "code",
   "execution_count": null,
   "id": "355f5567",
   "metadata": {},
   "outputs": [],
   "source": [
    "#13. Write a python program to check whether a given string is palindrome or not."
   ]
  },
  {
   "cell_type": "code",
   "execution_count": 9,
   "id": "c181af81",
   "metadata": {},
   "outputs": [
    {
     "name": "stdout",
     "output_type": "stream",
     "text": [
      "enter stringMadam\n",
      "The string isn't a palindrome\n"
     ]
    }
   ],
   "source": [
    "s = input(\"enter string\")\n",
    "if(s==s[::-1]):\n",
    "   print(\"The string is a palindrome\")\n",
    "else:\n",
    "   print(\"The string isn't a palindrome\")"
   ]
  },
  {
   "cell_type": "code",
   "execution_count": null,
   "id": "9b39436e",
   "metadata": {},
   "outputs": [],
   "source": []
  },
  {
   "cell_type": "code",
   "execution_count": null,
   "id": "e0aad027",
   "metadata": {},
   "outputs": [],
   "source": [
    "#14. Write a Python program to get the third side of right-angled triangle from two given sides"
   ]
  },
  {
   "cell_type": "code",
   "execution_count": 10,
   "id": "cd1127a0",
   "metadata": {},
   "outputs": [
    {
     "name": "stdout",
     "output_type": "stream",
     "text": [
      "h = 5.0\n",
      "a = 4.0\n",
      "b = 3.0\n"
     ]
    }
   ],
   "source": [
    "def pythagoras(b,a,h):\n",
    "        if b == str(\"x\"):\n",
    "            return (\"b = \" + str(((h**2) - (a**2))**0.5))\n",
    "        elif a == str(\"x\"):\n",
    "            return (\"a = \" + str(((h**2) - (b**2))**0.5))\n",
    "        elif h == str(\"x\"):\n",
    "            return (\"h = \" + str(((b**2) + (a**2))**0.5))\n",
    "        \n",
    "        \n",
    "print(pythagoras(3,4,'x'))\n",
    "print(pythagoras(3,'x',5))\n",
    "print(pythagoras('x',4,5))"
   ]
  },
  {
   "cell_type": "code",
   "execution_count": null,
   "id": "1b839d8f",
   "metadata": {},
   "outputs": [],
   "source": []
  },
  {
   "cell_type": "code",
   "execution_count": null,
   "id": "ddd9019a",
   "metadata": {},
   "outputs": [],
   "source": [
    "#15Write a python program to print the frequency of each of the characters present in a given string."
   ]
  },
  {
   "cell_type": "code",
   "execution_count": 11,
   "id": "4968de0b",
   "metadata": {},
   "outputs": [
    {
     "name": "stdout",
     "output_type": "stream",
     "text": [
      "Enter stringhello world\n",
      "{'h': 1, 'e': 1, 'l': 3, 'o': 2, ' ': 1, 'w': 1, 'r': 1, 'd': 1}\n"
     ]
    }
   ],
   "source": [
    "str=input(\"Enter string\")\n",
    "#print(str)\n",
    "l=list(str)\n",
    "#print(L)\n",
    "freq=[l.count(ele) for ele in l]\n",
    "#print(freq)\n",
    "d=dict(zip(l,freq))\n",
    "print(d)"
   ]
  },
  {
   "cell_type": "code",
   "execution_count": null,
   "id": "8ef8b0e5",
   "metadata": {},
   "outputs": [],
   "source": []
  }
 ],
 "metadata": {
  "kernelspec": {
   "display_name": "Python 3 (ipykernel)",
   "language": "python",
   "name": "python3"
  },
  "language_info": {
   "codemirror_mode": {
    "name": "ipython",
    "version": 3
   },
   "file_extension": ".py",
   "mimetype": "text/x-python",
   "name": "python",
   "nbconvert_exporter": "python",
   "pygments_lexer": "ipython3",
   "version": "3.9.7"
  }
 },
 "nbformat": 4,
 "nbformat_minor": 5
}
