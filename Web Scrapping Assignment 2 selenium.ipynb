{
 "cells": [
  {
   "cell_type": "markdown",
   "id": "619c3d60",
   "metadata": {},
   "source": [
    "# WEB SCRAPING – ASSIGNMENT 2"
   ]
  },
  {
   "cell_type": "markdown",
   "id": "977d6387",
   "metadata": {},
   "source": [
    "# Q1: Write a python program to scrape data for “Data Analyst” Job position in “Bangalore” location. You\n",
    "have to scrape the job-title, job-location, company_name, experience_required. You have to scrape first 10\n",
    "jobs data.\n",
    "This task will be done in following steps:\n",
    "1. First get the webpage https://www.naukri.com/\n",
    "2. Enter “Data Analyst” in “Skill, Designations, Companies” field and enter “Bangalore” in “enter the\n",
    "location” field.\n",
    "3. Then click the search button.\n",
    "4. Then scrape the data for the first 10 jobs results you get.\n",
    "5. Finally create a dataframe of the scraped data."
   ]
  },
  {
   "cell_type": "code",
   "execution_count": 1,
   "id": "2fb10529",
   "metadata": {},
   "outputs": [
    {
     "name": "stdout",
     "output_type": "stream",
     "text": [
      "Requirement already satisfied: selenium in c:\\users\\user\\anaconda3\\lib\\site-packages (4.4.3)\n",
      "Requirement already satisfied: trio~=0.17 in c:\\users\\user\\anaconda3\\lib\\site-packages (from selenium) (0.22.0)\n",
      "Requirement already satisfied: urllib3[socks]~=1.26 in c:\\users\\user\\anaconda3\\lib\\site-packages (from selenium) (1.26.7)\n",
      "Requirement already satisfied: certifi>=2021.10.8 in c:\\users\\user\\anaconda3\\lib\\site-packages (from selenium) (2021.10.8)\n",
      "Requirement already satisfied: trio-websocket~=0.9 in c:\\users\\user\\anaconda3\\lib\\site-packages (from selenium) (0.9.2)\n",
      "Requirement already satisfied: async-generator>=1.9 in c:\\users\\user\\anaconda3\\lib\\site-packages (from trio~=0.17->selenium) (1.10)\n",
      "Requirement already satisfied: outcome in c:\\users\\user\\anaconda3\\lib\\site-packages (from trio~=0.17->selenium) (1.2.0)\n",
      "Requirement already satisfied: idna in c:\\users\\user\\anaconda3\\lib\\site-packages (from trio~=0.17->selenium) (3.2)\n",
      "Requirement already satisfied: exceptiongroup>=1.0.0rc9 in c:\\users\\user\\anaconda3\\lib\\site-packages (from trio~=0.17->selenium) (1.0.0rc9)\n",
      "Requirement already satisfied: cffi>=1.14 in c:\\users\\user\\anaconda3\\lib\\site-packages (from trio~=0.17->selenium) (1.14.6)\n",
      "Requirement already satisfied: attrs>=19.2.0 in c:\\users\\user\\anaconda3\\lib\\site-packages (from trio~=0.17->selenium) (21.2.0)\n",
      "Requirement already satisfied: sniffio in c:\\users\\user\\anaconda3\\lib\\site-packages (from trio~=0.17->selenium) (1.2.0)\n",
      "Requirement already satisfied: sortedcontainers in c:\\users\\user\\anaconda3\\lib\\site-packages (from trio~=0.17->selenium) (2.4.0)\n",
      "Requirement already satisfied: pycparser in c:\\users\\user\\anaconda3\\lib\\site-packages (from cffi>=1.14->trio~=0.17->selenium) (2.20)\n",
      "Requirement already satisfied: wsproto>=0.14 in c:\\users\\user\\anaconda3\\lib\\site-packages (from trio-websocket~=0.9->selenium) (1.2.0)\n",
      "Requirement already satisfied: PySocks!=1.5.7,<2.0,>=1.5.6 in c:\\users\\user\\anaconda3\\lib\\site-packages (from urllib3[socks]~=1.26->selenium) (1.7.1)\n",
      "Requirement already satisfied: h11<1,>=0.9.0 in c:\\users\\user\\anaconda3\\lib\\site-packages (from wsproto>=0.14->trio-websocket~=0.9->selenium) (0.14.0)\n"
     ]
    }
   ],
   "source": [
    "!pip install selenium"
   ]
  },
  {
   "cell_type": "code",
   "execution_count": 2,
   "id": "338b57c3",
   "metadata": {},
   "outputs": [
    {
     "name": "stderr",
     "output_type": "stream",
     "text": [
      "ERROR: Could not find a version that satisfies the requirement StaleElementRefrenceException (from versions: none)\n",
      "ERROR: No matching distribution found for StaleElementRefrenceException\n"
     ]
    }
   ],
   "source": [
    "!pip install StaleElementRefrenceException"
   ]
  },
  {
   "cell_type": "code",
   "execution_count": 3,
   "id": "260a82b9",
   "metadata": {},
   "outputs": [],
   "source": [
    "#importing all liabraries\n",
    "import pandas as pd\n",
    "import numpy as np\n",
    "import selenium\n",
    "from selenium import webdriver\n",
    "import warnings \n",
    "warnings.filterwarnings(\"ignore\")\n",
    "from selenium.webdriver.common.by import By\n",
    "from selenium.common.exceptions import NoSuchElementException, StaleElementReferenceException\n",
    "import time"
   ]
  },
  {
   "cell_type": "code",
   "execution_count": 4,
   "id": "e713d8f9",
   "metadata": {},
   "outputs": [],
   "source": [
    "driver=webdriver.Chrome(r\"C:\\Users\\USER\\Downloads\\chromedriver_win32 (2)\\chromedriver.exe\")"
   ]
  },
  {
   "cell_type": "code",
   "execution_count": 5,
   "id": "e7d0d0a7",
   "metadata": {},
   "outputs": [],
   "source": [
    "driver.get(\"https://www.naukri.com/\")"
   ]
  },
  {
   "cell_type": "code",
   "execution_count": 6,
   "id": "a9ab0b7e",
   "metadata": {},
   "outputs": [],
   "source": [
    "#Putting tittle name\n",
    "destination=driver.find_element(By.CLASS_NAME,\"suggestor-input \")\n",
    "destination.send_keys('Data Analyst')"
   ]
  },
  {
   "cell_type": "code",
   "execution_count": 8,
   "id": "0e3a6123",
   "metadata": {},
   "outputs": [],
   "source": [
    "#puting location \n",
    "location=driver.find_element(By.XPATH,\"/html/body/div[1]/div[6]/div/div/div[5]/div/div/div/input\")\n",
    "location.send_keys('Bangalore')"
   ]
  },
  {
   "cell_type": "code",
   "execution_count": 10,
   "id": "4549596c",
   "metadata": {},
   "outputs": [],
   "source": [
    "#Clicking on search to get the best results\n",
    "search=driver.find_element(By.CLASS_NAME,\"qsbSubmit\")\n",
    "search.click()"
   ]
  },
  {
   "cell_type": "code",
   "execution_count": 11,
   "id": "6a28cbfe",
   "metadata": {},
   "outputs": [],
   "source": [
    "#Making an empty dict\n",
    "jobtittle=[]\n",
    "joblocation=[]\n",
    "experincerequired=[]\n",
    "companyname=[]"
   ]
  },
  {
   "cell_type": "code",
   "execution_count": 12,
   "id": "9596e273",
   "metadata": {},
   "outputs": [],
   "source": [
    "#Getting the tittle names list\n",
    "tittle_tags=driver.find_elements(By.XPATH,'//a[@class=\"title fw500 ellipsis\"]')\n",
    "for i in tittle_tags[0:10]:\n",
    "    tittle = i.text\n",
    "    jobtittle.append(tittle)"
   ]
  },
  {
   "cell_type": "code",
   "execution_count": 13,
   "id": "4e50df63",
   "metadata": {},
   "outputs": [
    {
     "data": {
      "text/plain": [
       "['Data Analyst - CRM Platform',\n",
       " 'Payroll Transformation Data Analyst',\n",
       " 'Master Data Management Business Analyst',\n",
       " 'Data Analytics and Interpretation Business Analyst',\n",
       " 'Data Analyst',\n",
       " 'Data Analyst',\n",
       " 'Senior Data Analyst',\n",
       " 'Senior Data Analyst',\n",
       " 'Senior Data Analyst',\n",
       " 'Senior Data Analyst | Fortune500 Retail Company']"
      ]
     },
     "execution_count": 13,
     "metadata": {},
     "output_type": "execute_result"
    }
   ],
   "source": [
    "jobtittle"
   ]
  },
  {
   "cell_type": "code",
   "execution_count": 16,
   "id": "5c1b096e",
   "metadata": {},
   "outputs": [],
   "source": [
    "#getting the job location data\n",
    "location_=driver.find_elements(By.XPATH,'//li[@class=\"fleft grey-text br2 placeHolderLi location\"]')\n",
    "for i in location_[0:10]:\n",
    "    l = i.text\n",
    "    joblocation.append(l)"
   ]
  },
  {
   "cell_type": "code",
   "execution_count": 17,
   "id": "8f6517b8",
   "metadata": {},
   "outputs": [
    {
     "data": {
      "text/plain": [
       "['Bangalore/Bengaluru, Mumbai, Hyderabad/Secunderabad, Pune, Chennai, Ahmedabad',\n",
       " 'Bangalore/Bengaluru',\n",
       " 'Bangalore/Bengaluru',\n",
       " 'Bangalore/Bengaluru',\n",
       " 'Bangalore/Bengaluru',\n",
       " 'Bangalore/Bengaluru',\n",
       " 'Bangalore/Bengaluru',\n",
       " 'Bangalore/Bengaluru',\n",
       " 'Bangalore/Bengaluru',\n",
       " 'Bangalore/Bengaluru']"
      ]
     },
     "execution_count": 17,
     "metadata": {},
     "output_type": "execute_result"
    }
   ],
   "source": [
    "joblocation"
   ]
  },
  {
   "cell_type": "code",
   "execution_count": 18,
   "id": "c99e391b",
   "metadata": {},
   "outputs": [],
   "source": [
    "#getting the exp info\n",
    "exp=driver.find_elements(By.XPATH,'//li[@class=\"fleft grey-text br2 placeHolderLi experience\"]')\n",
    "for i in exp[0:10]:\n",
    "    e = i.text\n",
    "    experincerequired.append(e)"
   ]
  },
  {
   "cell_type": "code",
   "execution_count": 19,
   "id": "af79b051",
   "metadata": {},
   "outputs": [
    {
     "data": {
      "text/plain": [
       "['1-6 Yrs',\n",
       " '5-10 Yrs',\n",
       " '6-8 Yrs',\n",
       " '6-8 Yrs',\n",
       " '7-12 Yrs',\n",
       " '7-12 Yrs',\n",
       " '7-10 Yrs',\n",
       " '3-6 Yrs',\n",
       " '4-6 Yrs',\n",
       " '3-8 Yrs']"
      ]
     },
     "execution_count": 19,
     "metadata": {},
     "output_type": "execute_result"
    }
   ],
   "source": [
    "experincerequired"
   ]
  },
  {
   "cell_type": "code",
   "execution_count": 20,
   "id": "c586861e",
   "metadata": {},
   "outputs": [
    {
     "data": {
      "text/plain": [
       "['Artech infosystem',\n",
       " 'Arrow Electronics',\n",
       " 'Accenture',\n",
       " 'Accenture',\n",
       " 'ANZ',\n",
       " 'ANZ',\n",
       " 'TEKsystems',\n",
       " 'Goalreify Ventures',\n",
       " 'Goalreify Ventures',\n",
       " 'Talent500']"
      ]
     },
     "execution_count": 20,
     "metadata": {},
     "output_type": "execute_result"
    }
   ],
   "source": [
    "#getting the company name\n",
    "comp=driver.find_elements(By.XPATH,'//a[@class=\"subTitle ellipsis fleft\"]')\n",
    "for i in comp[0:10]:\n",
    "    c = i.text\n",
    "    companyname.append(c)\n",
    "companyname"
   ]
  },
  {
   "cell_type": "code",
   "execution_count": null,
   "id": "bfe6c6a1",
   "metadata": {},
   "outputs": [],
   "source": [
    "#At last making the data frame of all the data scraped."
   ]
  },
  {
   "cell_type": "code",
   "execution_count": 21,
   "id": "a4c73dd2",
   "metadata": {},
   "outputs": [],
   "source": [
    "job_data=pd.DataFrame({'job tittle':jobtittle, 'company name':companyname, 'experience required':experincerequired, 'job location':joblocation })"
   ]
  },
  {
   "cell_type": "code",
   "execution_count": 22,
   "id": "65162dc7",
   "metadata": {},
   "outputs": [
    {
     "data": {
      "text/html": [
       "<div>\n",
       "<style scoped>\n",
       "    .dataframe tbody tr th:only-of-type {\n",
       "        vertical-align: middle;\n",
       "    }\n",
       "\n",
       "    .dataframe tbody tr th {\n",
       "        vertical-align: top;\n",
       "    }\n",
       "\n",
       "    .dataframe thead th {\n",
       "        text-align: right;\n",
       "    }\n",
       "</style>\n",
       "<table border=\"1\" class=\"dataframe\">\n",
       "  <thead>\n",
       "    <tr style=\"text-align: right;\">\n",
       "      <th></th>\n",
       "      <th>job tittle</th>\n",
       "      <th>company name</th>\n",
       "      <th>experience required</th>\n",
       "      <th>job location</th>\n",
       "    </tr>\n",
       "  </thead>\n",
       "  <tbody>\n",
       "    <tr>\n",
       "      <th>0</th>\n",
       "      <td>Data Analyst - CRM Platform</td>\n",
       "      <td>Artech infosystem</td>\n",
       "      <td>1-6 Yrs</td>\n",
       "      <td>Bangalore/Bengaluru, Mumbai, Hyderabad/Secunde...</td>\n",
       "    </tr>\n",
       "    <tr>\n",
       "      <th>1</th>\n",
       "      <td>Payroll Transformation Data Analyst</td>\n",
       "      <td>Arrow Electronics</td>\n",
       "      <td>5-10 Yrs</td>\n",
       "      <td>Bangalore/Bengaluru</td>\n",
       "    </tr>\n",
       "    <tr>\n",
       "      <th>2</th>\n",
       "      <td>Master Data Management Business Analyst</td>\n",
       "      <td>Accenture</td>\n",
       "      <td>6-8 Yrs</td>\n",
       "      <td>Bangalore/Bengaluru</td>\n",
       "    </tr>\n",
       "    <tr>\n",
       "      <th>3</th>\n",
       "      <td>Data Analytics and Interpretation Business Ana...</td>\n",
       "      <td>Accenture</td>\n",
       "      <td>6-8 Yrs</td>\n",
       "      <td>Bangalore/Bengaluru</td>\n",
       "    </tr>\n",
       "    <tr>\n",
       "      <th>4</th>\n",
       "      <td>Data Analyst</td>\n",
       "      <td>ANZ</td>\n",
       "      <td>7-12 Yrs</td>\n",
       "      <td>Bangalore/Bengaluru</td>\n",
       "    </tr>\n",
       "    <tr>\n",
       "      <th>5</th>\n",
       "      <td>Data Analyst</td>\n",
       "      <td>ANZ</td>\n",
       "      <td>7-12 Yrs</td>\n",
       "      <td>Bangalore/Bengaluru</td>\n",
       "    </tr>\n",
       "    <tr>\n",
       "      <th>6</th>\n",
       "      <td>Senior Data Analyst</td>\n",
       "      <td>TEKsystems</td>\n",
       "      <td>7-10 Yrs</td>\n",
       "      <td>Bangalore/Bengaluru</td>\n",
       "    </tr>\n",
       "    <tr>\n",
       "      <th>7</th>\n",
       "      <td>Senior Data Analyst</td>\n",
       "      <td>Goalreify Ventures</td>\n",
       "      <td>3-6 Yrs</td>\n",
       "      <td>Bangalore/Bengaluru</td>\n",
       "    </tr>\n",
       "    <tr>\n",
       "      <th>8</th>\n",
       "      <td>Senior Data Analyst</td>\n",
       "      <td>Goalreify Ventures</td>\n",
       "      <td>4-6 Yrs</td>\n",
       "      <td>Bangalore/Bengaluru</td>\n",
       "    </tr>\n",
       "    <tr>\n",
       "      <th>9</th>\n",
       "      <td>Senior Data Analyst | Fortune500 Retail Company</td>\n",
       "      <td>Talent500</td>\n",
       "      <td>3-8 Yrs</td>\n",
       "      <td>Bangalore/Bengaluru</td>\n",
       "    </tr>\n",
       "  </tbody>\n",
       "</table>\n",
       "</div>"
      ],
      "text/plain": [
       "                                          job tittle        company name  \\\n",
       "0                        Data Analyst - CRM Platform   Artech infosystem   \n",
       "1                Payroll Transformation Data Analyst   Arrow Electronics   \n",
       "2            Master Data Management Business Analyst           Accenture   \n",
       "3  Data Analytics and Interpretation Business Ana...           Accenture   \n",
       "4                                       Data Analyst                 ANZ   \n",
       "5                                       Data Analyst                 ANZ   \n",
       "6                                Senior Data Analyst          TEKsystems   \n",
       "7                                Senior Data Analyst  Goalreify Ventures   \n",
       "8                                Senior Data Analyst  Goalreify Ventures   \n",
       "9    Senior Data Analyst | Fortune500 Retail Company           Talent500   \n",
       "\n",
       "  experience required                                       job location  \n",
       "0             1-6 Yrs  Bangalore/Bengaluru, Mumbai, Hyderabad/Secunde...  \n",
       "1            5-10 Yrs                                Bangalore/Bengaluru  \n",
       "2             6-8 Yrs                                Bangalore/Bengaluru  \n",
       "3             6-8 Yrs                                Bangalore/Bengaluru  \n",
       "4            7-12 Yrs                                Bangalore/Bengaluru  \n",
       "5            7-12 Yrs                                Bangalore/Bengaluru  \n",
       "6            7-10 Yrs                                Bangalore/Bengaluru  \n",
       "7             3-6 Yrs                                Bangalore/Bengaluru  \n",
       "8             4-6 Yrs                                Bangalore/Bengaluru  \n",
       "9             3-8 Yrs                                Bangalore/Bengaluru  "
      ]
     },
     "execution_count": 22,
     "metadata": {},
     "output_type": "execute_result"
    }
   ],
   "source": [
    "job_data"
   ]
  },
  {
   "cell_type": "code",
   "execution_count": null,
   "id": "af480a13",
   "metadata": {},
   "outputs": [],
   "source": []
  },
  {
   "cell_type": "markdown",
   "id": "ea8ff77c",
   "metadata": {},
   "source": [
    "Q2: Write a python program to scrape data for “Data Scientist” Job position in “Bangalore” location. You\n",
    "have to scrape the job-title, job-location, company_name. You have to scrape first 10 jobs data.\n",
    "This task will be done in following steps:\n",
    "1. First get the webpage https://www.naukri.com/\n",
    "2. Enter “Data Scientist” in “Skill, Designations, Companies” field and enter “Bangalore” in “enter the\n",
    "location” field.\n",
    "3. Then click the search button.\n",
    "4. Then scrape the data for the first 10 jobs results you get.\n",
    "5. Finally create a dataframe of the scraped data."
   ]
  },
  {
   "cell_type": "code",
   "execution_count": 37,
   "id": "bc648967",
   "metadata": {},
   "outputs": [],
   "source": [
    "driver=webdriver.Chrome(r\"C:\\Users\\USER\\Downloads\\chromedriver_win32 (2)\\chromedriver.exe\")"
   ]
  },
  {
   "cell_type": "code",
   "execution_count": 38,
   "id": "d2b52fe7",
   "metadata": {},
   "outputs": [],
   "source": [
    "driver.get(\"https://www.naukri.com/\")"
   ]
  },
  {
   "cell_type": "code",
   "execution_count": 39,
   "id": "2b5990f4",
   "metadata": {},
   "outputs": [],
   "source": [
    "#Putting tittle name\n",
    "designation=driver.find_element(By.CLASS_NAME,\"suggestor-input \")\n",
    "designation.send_keys('Data Scientist')"
   ]
  },
  {
   "cell_type": "code",
   "execution_count": 40,
   "id": "3d2dce51",
   "metadata": {},
   "outputs": [],
   "source": [
    "#puting location \n",
    "location=driver.find_element(By.XPATH,\"/html/body/div[1]/div[6]/div/div/div[5]/div/div/div/input\")\n",
    "location.send_keys('Bangalore')"
   ]
  },
  {
   "cell_type": "code",
   "execution_count": 41,
   "id": "1f37a5c1",
   "metadata": {},
   "outputs": [],
   "source": [
    "#Clicking on search to get the best results\n",
    "search=driver.find_element(By.CLASS_NAME,\"qsbSubmit\")\n",
    "search.click()"
   ]
  },
  {
   "cell_type": "code",
   "execution_count": 42,
   "id": "68cffe10",
   "metadata": {},
   "outputs": [],
   "source": [
    "#Making an empty dict\n",
    "jobtittle1=[]\n",
    "joblocation1=[]\n",
    "companyname1=[]"
   ]
  },
  {
   "cell_type": "code",
   "execution_count": 43,
   "id": "447870fb",
   "metadata": {},
   "outputs": [],
   "source": [
    "#Getting the tittle names list\n",
    "tittle_tags=driver.find_elements(By.XPATH,'//a[@class=\"title fw500 ellipsis\"]')\n",
    "for i in tittle_tags[0:10]:\n",
    "    tittle = i.text\n",
    "    jobtittle1.append(tittle)"
   ]
  },
  {
   "cell_type": "code",
   "execution_count": 44,
   "id": "6ccadee7",
   "metadata": {},
   "outputs": [
    {
     "data": {
      "text/plain": [
       "['Data Science Specialist',\n",
       " 'Data Science Manager',\n",
       " 'Mongodb Database Administrator, Maria DB or Cassandra',\n",
       " 'Analystics & Modeling Specialist',\n",
       " 'Senior Data Scientist',\n",
       " 'Assistant Manager - Data Science',\n",
       " 'Data Scientist',\n",
       " 'Opportunity For Senior Data Scientist/ Business Analyst with PayU',\n",
       " 'Exciting opportunity For model monitoring/model validation role!!',\n",
       " 'Data Scientist: Artificial Intelligence']"
      ]
     },
     "execution_count": 44,
     "metadata": {},
     "output_type": "execute_result"
    }
   ],
   "source": [
    "jobtittle1"
   ]
  },
  {
   "cell_type": "code",
   "execution_count": 45,
   "id": "c1f5b57c",
   "metadata": {},
   "outputs": [],
   "source": [
    "#getting the job location data\n",
    "location_=driver.find_elements(By.XPATH,'//li[@class=\"fleft grey-text br2 placeHolderLi location\"]')\n",
    "for i in location_[0:10]:\n",
    "    l = i.text\n",
    "    joblocation1.append(l)"
   ]
  },
  {
   "cell_type": "code",
   "execution_count": 48,
   "id": "a78747d5",
   "metadata": {},
   "outputs": [
    {
     "data": {
      "text/plain": [
       "['Accenture',\n",
       " 'Accenture',\n",
       " 'Mphasis',\n",
       " 'Accenture',\n",
       " 'Boston Consulting Group',\n",
       " 'CitiusTech',\n",
       " 'Tech Mahindra',\n",
       " 'PayU',\n",
       " 'EXL',\n",
       " 'IBM']"
      ]
     },
     "execution_count": 48,
     "metadata": {},
     "output_type": "execute_result"
    }
   ],
   "source": [
    "#getting the company name\n",
    "comp=driver.find_elements(By.XPATH,'//a[@class=\"subTitle ellipsis fleft\"]')\n",
    "for i in comp[0:10]:\n",
    "    c = i.text\n",
    "    companyname1.append(c)\n",
    "companyname1"
   ]
  },
  {
   "cell_type": "code",
   "execution_count": 49,
   "id": "7d63d74c",
   "metadata": {},
   "outputs": [],
   "source": [
    "job_data1=pd.DataFrame({'job tittle':jobtittle1, 'company name':companyname1, 'job location':joblocation1 })"
   ]
  },
  {
   "cell_type": "code",
   "execution_count": 50,
   "id": "0e13508d",
   "metadata": {},
   "outputs": [
    {
     "data": {
      "text/html": [
       "<div>\n",
       "<style scoped>\n",
       "    .dataframe tbody tr th:only-of-type {\n",
       "        vertical-align: middle;\n",
       "    }\n",
       "\n",
       "    .dataframe tbody tr th {\n",
       "        vertical-align: top;\n",
       "    }\n",
       "\n",
       "    .dataframe thead th {\n",
       "        text-align: right;\n",
       "    }\n",
       "</style>\n",
       "<table border=\"1\" class=\"dataframe\">\n",
       "  <thead>\n",
       "    <tr style=\"text-align: right;\">\n",
       "      <th></th>\n",
       "      <th>job tittle</th>\n",
       "      <th>company name</th>\n",
       "      <th>job location</th>\n",
       "    </tr>\n",
       "  </thead>\n",
       "  <tbody>\n",
       "    <tr>\n",
       "      <th>0</th>\n",
       "      <td>Data Science Specialist</td>\n",
       "      <td>Accenture</td>\n",
       "      <td>Bangalore/Bengaluru, Kolkata, Mumbai, Hyderaba...</td>\n",
       "    </tr>\n",
       "    <tr>\n",
       "      <th>1</th>\n",
       "      <td>Data Science Manager</td>\n",
       "      <td>Accenture</td>\n",
       "      <td>Bangalore/Bengaluru, Kolkata, Mumbai, Hyderaba...</td>\n",
       "    </tr>\n",
       "    <tr>\n",
       "      <th>2</th>\n",
       "      <td>Mongodb Database Administrator, Maria DB or Ca...</td>\n",
       "      <td>Mphasis</td>\n",
       "      <td>Bangalore/Bengaluru, Hyderabad/Secunderabad, P...</td>\n",
       "    </tr>\n",
       "    <tr>\n",
       "      <th>3</th>\n",
       "      <td>Analystics &amp; Modeling Specialist</td>\n",
       "      <td>Accenture</td>\n",
       "      <td>Bangalore/Bengaluru, Kolkata, Mumbai, Hyderaba...</td>\n",
       "    </tr>\n",
       "    <tr>\n",
       "      <th>4</th>\n",
       "      <td>Senior Data Scientist</td>\n",
       "      <td>Boston Consulting Group</td>\n",
       "      <td>Bangalore/Bengaluru, Mumbai, New Delhi, Chennai</td>\n",
       "    </tr>\n",
       "    <tr>\n",
       "      <th>5</th>\n",
       "      <td>Assistant Manager - Data Science</td>\n",
       "      <td>CitiusTech</td>\n",
       "      <td>Bangalore/Bengaluru, Mumbai, Pune</td>\n",
       "    </tr>\n",
       "    <tr>\n",
       "      <th>6</th>\n",
       "      <td>Data Scientist</td>\n",
       "      <td>Tech Mahindra</td>\n",
       "      <td>Bangalore/Bengaluru, Hyderabad/Secunderabad, P...</td>\n",
       "    </tr>\n",
       "    <tr>\n",
       "      <th>7</th>\n",
       "      <td>Opportunity For Senior Data Scientist/ Busines...</td>\n",
       "      <td>PayU</td>\n",
       "      <td>Bangalore/Bengaluru, Gurgaon/Gurugram, Delhi /...</td>\n",
       "    </tr>\n",
       "    <tr>\n",
       "      <th>8</th>\n",
       "      <td>Exciting opportunity For model monitoring/mode...</td>\n",
       "      <td>EXL</td>\n",
       "      <td>Bangalore/Bengaluru, New Delhi, Gurgaon/Gurugr...</td>\n",
       "    </tr>\n",
       "    <tr>\n",
       "      <th>9</th>\n",
       "      <td>Data Scientist: Artificial Intelligence</td>\n",
       "      <td>IBM</td>\n",
       "      <td>Bangalore/Bengaluru</td>\n",
       "    </tr>\n",
       "  </tbody>\n",
       "</table>\n",
       "</div>"
      ],
      "text/plain": [
       "                                          job tittle             company name  \\\n",
       "0                            Data Science Specialist                Accenture   \n",
       "1                               Data Science Manager                Accenture   \n",
       "2  Mongodb Database Administrator, Maria DB or Ca...                  Mphasis   \n",
       "3                   Analystics & Modeling Specialist                Accenture   \n",
       "4                              Senior Data Scientist  Boston Consulting Group   \n",
       "5                   Assistant Manager - Data Science               CitiusTech   \n",
       "6                                     Data Scientist            Tech Mahindra   \n",
       "7  Opportunity For Senior Data Scientist/ Busines...                     PayU   \n",
       "8  Exciting opportunity For model monitoring/mode...                      EXL   \n",
       "9            Data Scientist: Artificial Intelligence                      IBM   \n",
       "\n",
       "                                        job location  \n",
       "0  Bangalore/Bengaluru, Kolkata, Mumbai, Hyderaba...  \n",
       "1  Bangalore/Bengaluru, Kolkata, Mumbai, Hyderaba...  \n",
       "2  Bangalore/Bengaluru, Hyderabad/Secunderabad, P...  \n",
       "3  Bangalore/Bengaluru, Kolkata, Mumbai, Hyderaba...  \n",
       "4    Bangalore/Bengaluru, Mumbai, New Delhi, Chennai  \n",
       "5                  Bangalore/Bengaluru, Mumbai, Pune  \n",
       "6  Bangalore/Bengaluru, Hyderabad/Secunderabad, P...  \n",
       "7  Bangalore/Bengaluru, Gurgaon/Gurugram, Delhi /...  \n",
       "8  Bangalore/Bengaluru, New Delhi, Gurgaon/Gurugr...  \n",
       "9                                Bangalore/Bengaluru  "
      ]
     },
     "execution_count": 50,
     "metadata": {},
     "output_type": "execute_result"
    }
   ],
   "source": [
    "job_data1"
   ]
  },
  {
   "cell_type": "code",
   "execution_count": null,
   "id": "4637888e",
   "metadata": {},
   "outputs": [],
   "source": []
  },
  {
   "cell_type": "markdown",
   "id": "8e851f72",
   "metadata": {},
   "source": [
    "Q3: In this question you have to scrape data using the filters available on the webpage as shown below:"
   ]
  },
  {
   "cell_type": "markdown",
   "id": "007f556b",
   "metadata": {},
   "source": [
    "You have to use the location and salary filter.\n",
    "You have to scrape data for “Data Scientist” designation for first 10 job results.\n",
    "You have to scrape the job-title, job-location, company name, experience required.\n",
    "The location filter to be used is “Delhi/NCR”. The salary filter to be used is “3-6” lakhs\n",
    "The task will be done as shown in the below steps:\n",
    "1. first get the webpage https://www.naukri.com/\n",
    "2. Enter “Data Scientist” in “Skill, Designations, and Companies” field.\n",
    "3. Then click the search button.\n",
    "4. Then apply the location filter and salary filter by checking the respective boxes\n",
    "5. Then scrape the data for the first 10 jobs results you get.\n",
    "6. Finally create a dataframe of the scraped data."
   ]
  },
  {
   "cell_type": "code",
   "execution_count": 1,
   "id": "9c87cfc0",
   "metadata": {},
   "outputs": [],
   "source": [
    "#importing all liabraries\n",
    "import pandas as pd\n",
    "import numpy as np\n",
    "import selenium\n",
    "from selenium import webdriver\n",
    "import warnings \n",
    "warnings.filterwarnings(\"ignore\")\n",
    "from selenium.webdriver.common.by import By\n",
    "from selenium.common.exceptions import NoSuchElementException, StaleElementReferenceException\n",
    "import time"
   ]
  },
  {
   "cell_type": "code",
   "execution_count": 4,
   "id": "2fda9d38",
   "metadata": {},
   "outputs": [],
   "source": [
    "driver=webdriver.Chrome(r\"C:\\Users\\USER\\Downloads\\chromedriver_win32 (2)\\chromedriver.exe\")\n",
    "\n",
    "driver.get(\"https://www.naukri.com/\")\n",
    "\n",
    "#Putting title name\n",
    "destination=driver.find_element(By.CLASS_NAME,\"suggestor-input \")\n",
    "destination.send_keys('Data Scientist')\n",
    "\n",
    "#Clicking on search to get the best results\n",
    "search=driver.find_element(By.CLASS_NAME,\"qsbSubmit\")\n",
    "search.click()\n",
    "\n"
   ]
  },
  {
   "cell_type": "code",
   "execution_count": 5,
   "id": "291fb062",
   "metadata": {},
   "outputs": [],
   "source": [
    "#setting filter\n",
    "search=driver.find_element(By.XPATH,'/html/body/div[1]/div[4]/div/section[1]/div[2]/div[6]/div[2]/div[2]/label/i')\n",
    "search.click()"
   ]
  },
  {
   "cell_type": "code",
   "execution_count": 6,
   "id": "4fd1eb1d",
   "metadata": {},
   "outputs": [],
   "source": [
    "search=driver.find_element(By.XPATH,'/html/body/div[1]/div[4]/div/section[1]/div[2]/div[6]/div[2]/div[3]/label/i')\n",
    "search.click()"
   ]
  },
  {
   "cell_type": "code",
   "execution_count": 7,
   "id": "85642a1b",
   "metadata": {},
   "outputs": [],
   "source": [
    "#Making an empty dict\n",
    "jobtitle=[]\n",
    "companyname=[]"
   ]
  },
  {
   "cell_type": "code",
   "execution_count": 8,
   "id": "4d7b81d9",
   "metadata": {},
   "outputs": [],
   "source": [
    "#Getting the tittle names list\n",
    "title_tags=driver.find_elements(By.XPATH,'//a[@class=\"title fw500 ellipsis\"]')\n",
    "for i in title_tags[0:10]:\n",
    "    title = i.text\n",
    "    jobtitle.append(title)"
   ]
  },
  {
   "cell_type": "code",
   "execution_count": 9,
   "id": "040de935",
   "metadata": {},
   "outputs": [
    {
     "data": {
      "text/plain": [
       "['Data Scientist',\n",
       " 'DigitalBCG GAMMA Data Scientist',\n",
       " 'Data Scientist',\n",
       " 'Lead Data Scientist',\n",
       " 'Data Scientist',\n",
       " 'Data Scientist / Chat-bot Developer',\n",
       " 'Data Scientist - Engine Algorithm',\n",
       " 'Data Activation Specialist - Adobe Target',\n",
       " 'Data Scientist',\n",
       " 'Data Scientist']"
      ]
     },
     "execution_count": 9,
     "metadata": {},
     "output_type": "execute_result"
    }
   ],
   "source": [
    "jobtitle"
   ]
  },
  {
   "cell_type": "code",
   "execution_count": 10,
   "id": "684686e7",
   "metadata": {},
   "outputs": [
    {
     "data": {
      "text/plain": [
       "['GlobalLogic',\n",
       " 'Boston Consulting Group',\n",
       " 'IHS Markit',\n",
       " 'R Systems International',\n",
       " 'Optum',\n",
       " 'Big Seo Buzz',\n",
       " 'Primo Hiring',\n",
       " 'Okda Solutions',\n",
       " 'NGI Ventures',\n",
       " 'torcai digital media']"
      ]
     },
     "execution_count": 10,
     "metadata": {},
     "output_type": "execute_result"
    }
   ],
   "source": [
    "#getting the company name\n",
    "comp=driver.find_elements(By.XPATH,'//a[@class=\"subTitle ellipsis fleft\"]')\n",
    "for i in comp[0:10]:\n",
    "    c = i.text\n",
    "    companyname.append(c)\n",
    "companyname"
   ]
  },
  {
   "cell_type": "code",
   "execution_count": 11,
   "id": "049ef0de",
   "metadata": {},
   "outputs": [
    {
     "data": {
      "text/html": [
       "<div>\n",
       "<style scoped>\n",
       "    .dataframe tbody tr th:only-of-type {\n",
       "        vertical-align: middle;\n",
       "    }\n",
       "\n",
       "    .dataframe tbody tr th {\n",
       "        vertical-align: top;\n",
       "    }\n",
       "\n",
       "    .dataframe thead th {\n",
       "        text-align: right;\n",
       "    }\n",
       "</style>\n",
       "<table border=\"1\" class=\"dataframe\">\n",
       "  <thead>\n",
       "    <tr style=\"text-align: right;\">\n",
       "      <th></th>\n",
       "      <th>job title</th>\n",
       "      <th>Company Name</th>\n",
       "    </tr>\n",
       "  </thead>\n",
       "  <tbody>\n",
       "    <tr>\n",
       "      <th>0</th>\n",
       "      <td>Data Scientist</td>\n",
       "      <td>GlobalLogic</td>\n",
       "    </tr>\n",
       "    <tr>\n",
       "      <th>1</th>\n",
       "      <td>DigitalBCG GAMMA Data Scientist</td>\n",
       "      <td>Boston Consulting Group</td>\n",
       "    </tr>\n",
       "    <tr>\n",
       "      <th>2</th>\n",
       "      <td>Data Scientist</td>\n",
       "      <td>IHS Markit</td>\n",
       "    </tr>\n",
       "    <tr>\n",
       "      <th>3</th>\n",
       "      <td>Lead Data Scientist</td>\n",
       "      <td>R Systems International</td>\n",
       "    </tr>\n",
       "    <tr>\n",
       "      <th>4</th>\n",
       "      <td>Data Scientist</td>\n",
       "      <td>Optum</td>\n",
       "    </tr>\n",
       "    <tr>\n",
       "      <th>5</th>\n",
       "      <td>Data Scientist / Chat-bot Developer</td>\n",
       "      <td>Big Seo Buzz</td>\n",
       "    </tr>\n",
       "    <tr>\n",
       "      <th>6</th>\n",
       "      <td>Data Scientist - Engine Algorithm</td>\n",
       "      <td>Primo Hiring</td>\n",
       "    </tr>\n",
       "    <tr>\n",
       "      <th>7</th>\n",
       "      <td>Data Activation Specialist - Adobe Target</td>\n",
       "      <td>Okda Solutions</td>\n",
       "    </tr>\n",
       "    <tr>\n",
       "      <th>8</th>\n",
       "      <td>Data Scientist</td>\n",
       "      <td>NGI Ventures</td>\n",
       "    </tr>\n",
       "    <tr>\n",
       "      <th>9</th>\n",
       "      <td>Data Scientist</td>\n",
       "      <td>torcai digital media</td>\n",
       "    </tr>\n",
       "  </tbody>\n",
       "</table>\n",
       "</div>"
      ],
      "text/plain": [
       "                                   job title             Company Name\n",
       "0                             Data Scientist              GlobalLogic\n",
       "1            DigitalBCG GAMMA Data Scientist  Boston Consulting Group\n",
       "2                             Data Scientist               IHS Markit\n",
       "3                        Lead Data Scientist  R Systems International\n",
       "4                             Data Scientist                    Optum\n",
       "5        Data Scientist / Chat-bot Developer             Big Seo Buzz\n",
       "6          Data Scientist - Engine Algorithm             Primo Hiring\n",
       "7  Data Activation Specialist - Adobe Target           Okda Solutions\n",
       "8                             Data Scientist             NGI Ventures\n",
       "9                             Data Scientist     torcai digital media"
      ]
     },
     "execution_count": 11,
     "metadata": {},
     "output_type": "execute_result"
    }
   ],
   "source": [
    "job_data=pd.DataFrame({'job title':jobtitle,'Company Name':companyname })\n",
    "job_data"
   ]
  },
  {
   "cell_type": "code",
   "execution_count": null,
   "id": "855a7b13",
   "metadata": {},
   "outputs": [],
   "source": []
  },
  {
   "cell_type": "markdown",
   "id": "9402cf00",
   "metadata": {},
   "source": [
    "Q4: Scrape data of first 100 sunglasses listings on flipkart.com. You have to scrape four attributes:\n",
    "1. Brand\n",
    "2. Product Description\n",
    "3. Price\n",
    "The attributes which you have to scrape is ticked marked in the below image.\n",
    "\n",
    "To scrape the data you have to go through following steps:\n",
    "1. Go to Flipkart webpage by url : https://www.flipkart.com/\n",
    "2. Enter “sunglasses” in the search field where “search for products, brands and more” is written and\n",
    "click the search icon\n",
    "3. After that you will reach to the page having a lot of sunglasses. From this page you can scrap the\n",
    "required data as usual.\n",
    "\n",
    "4. After scraping data from the first page, go to the “Next” Button at the bottom other page , then\n",
    "click on it.\n",
    "5. Now scrape data from this page as usual\n",
    "6. Repeat this until you get data for 100 sunglasses."
   ]
  },
  {
   "cell_type": "code",
   "execution_count": 27,
   "id": "e0f195fc",
   "metadata": {},
   "outputs": [],
   "source": [
    "#importing all liabraries\n",
    "import pandas as pd\n",
    "import numpy as np\n",
    "import selenium\n",
    "from selenium import webdriver\n",
    "import warnings \n",
    "warnings.filterwarnings(\"ignore\")\n",
    "from selenium.webdriver.common.by import By\n",
    "from selenium.common.exceptions import NoSuchElementException, StaleElementReferenceException\n",
    "import time"
   ]
  },
  {
   "cell_type": "code",
   "execution_count": 28,
   "id": "c9116516",
   "metadata": {},
   "outputs": [],
   "source": [
    "driver=webdriver.Chrome(r\"C:\\Users\\USER\\Downloads\\chromedriver_win32 (2)\\chromedriver.exe\")"
   ]
  },
  {
   "cell_type": "code",
   "execution_count": 29,
   "id": "7449c799",
   "metadata": {},
   "outputs": [],
   "source": [
    "driver.get(\"https://www.flipkart.com/\")"
   ]
  },
  {
   "cell_type": "code",
   "execution_count": 30,
   "id": "11e12fdf",
   "metadata": {},
   "outputs": [],
   "source": [
    "#Putting product name at the search bar\n",
    "name=driver.find_element(By.XPATH,'/html/body/div[1]/div/div[1]/div[1]/div[2]/div[2]/form/div/div/input')\n",
    "name.send_keys('sunglasses')"
   ]
  },
  {
   "cell_type": "code",
   "execution_count": 32,
   "id": "0fbe57a2",
   "metadata": {},
   "outputs": [],
   "source": [
    "search=driver.find_element(By.CLASS_NAME,\"_34RNph\")\n",
    "search.click()"
   ]
  },
  {
   "cell_type": "code",
   "execution_count": 33,
   "id": "beaa9b11",
   "metadata": {},
   "outputs": [],
   "source": [
    "page_url = [] # a list containg url's of every page\n",
    "url = driver.find_elements(By.XPATH,\"//nav[@class='yFHi8N']//a\")\n",
    "for i in url:\n",
    "    page_url.append(i.get_attribute('href'))"
   ]
  },
  {
   "cell_type": "code",
   "execution_count": 34,
   "id": "4616b4f8",
   "metadata": {},
   "outputs": [],
   "source": [
    "name=[]\n",
    "des=[]\n",
    "price=[]\n",
    "dis=[]\n",
    "for i in page_url[:3]:\n",
    "    driver.get(i)\n",
    "    title=driver.find_elements(By.CLASS_NAME,\"_2WkVRV\")\n",
    "    for i in title:\n",
    "         name.append(i.text)\n",
    "            \n",
    "    desc=driver.find_elements(By.CLASS_NAME,'IRpwTa')\n",
    "    for i in desc:\n",
    "        des.append(i.text)\n",
    "        \n",
    "    amount=driver.find_elements(By.CLASS_NAME,'_30jeq3')\n",
    "    for i in amount:\n",
    "        price.append(i.text)\n",
    "        \n",
    "    less=driver.find_elements(By.XPATH,'//div[@class=\"_3Ay6Sb\"]')\n",
    "    for i in less:\n",
    "        dis.append(i.text)"
   ]
  },
  {
   "cell_type": "code",
   "execution_count": 35,
   "id": "1e656c2b",
   "metadata": {},
   "outputs": [],
   "source": [
    "name=name[:100]\n",
    "des=des[:100]\n",
    "price=price[:100]\n",
    "dis=dis[:100]\n",
    "\n",
    "que4=pd.DataFrame({'Name':name,'Description':des,'Price':price,'Discount':dis})"
   ]
  },
  {
   "cell_type": "code",
   "execution_count": 36,
   "id": "0ec1aa9e",
   "metadata": {},
   "outputs": [
    {
     "data": {
      "text/html": [
       "<div>\n",
       "<style scoped>\n",
       "    .dataframe tbody tr th:only-of-type {\n",
       "        vertical-align: middle;\n",
       "    }\n",
       "\n",
       "    .dataframe tbody tr th {\n",
       "        vertical-align: top;\n",
       "    }\n",
       "\n",
       "    .dataframe thead th {\n",
       "        text-align: right;\n",
       "    }\n",
       "</style>\n",
       "<table border=\"1\" class=\"dataframe\">\n",
       "  <thead>\n",
       "    <tr style=\"text-align: right;\">\n",
       "      <th></th>\n",
       "      <th>Name</th>\n",
       "      <th>Description</th>\n",
       "      <th>Price</th>\n",
       "      <th>Discount</th>\n",
       "    </tr>\n",
       "  </thead>\n",
       "  <tbody>\n",
       "    <tr>\n",
       "      <th>0</th>\n",
       "      <td>VINCENT CHASE</td>\n",
       "      <td>by Lenskart Polarized, UV Protection Cat-eye S...</td>\n",
       "      <td>₹999</td>\n",
       "      <td>60% off</td>\n",
       "    </tr>\n",
       "    <tr>\n",
       "      <th>1</th>\n",
       "      <td>ROZZETTA CRAFT</td>\n",
       "      <td>UV Protection Aviator Sunglasses (55)</td>\n",
       "      <td>₹649</td>\n",
       "      <td>74% off</td>\n",
       "    </tr>\n",
       "    <tr>\n",
       "      <th>2</th>\n",
       "      <td>Fastrack</td>\n",
       "      <td>UV Protection Wayfarer Sunglasses (Free Size)</td>\n",
       "      <td>₹799</td>\n",
       "      <td>20% off</td>\n",
       "    </tr>\n",
       "    <tr>\n",
       "      <th>3</th>\n",
       "      <td>DEIXELS</td>\n",
       "      <td>Polarized, UV Protection, Riding Glasses Wayfa...</td>\n",
       "      <td>₹249</td>\n",
       "      <td>58% off</td>\n",
       "    </tr>\n",
       "    <tr>\n",
       "      <th>4</th>\n",
       "      <td>SHAAH COLLECTIONS</td>\n",
       "      <td>UV Protection Round Sunglasses (54)</td>\n",
       "      <td>₹179</td>\n",
       "      <td>86% off</td>\n",
       "    </tr>\n",
       "    <tr>\n",
       "      <th>...</th>\n",
       "      <td>...</td>\n",
       "      <td>...</td>\n",
       "      <td>...</td>\n",
       "      <td>...</td>\n",
       "    </tr>\n",
       "    <tr>\n",
       "      <th>95</th>\n",
       "      <td>ROZZETTA CRAFT</td>\n",
       "      <td>UV Protection, Gradient Retro Square Sunglasse...</td>\n",
       "      <td>₹254</td>\n",
       "      <td>88% off</td>\n",
       "    </tr>\n",
       "    <tr>\n",
       "      <th>96</th>\n",
       "      <td>Lee Topper</td>\n",
       "      <td>Riding Glasses, Night Vision Wrap-around Sungl...</td>\n",
       "      <td>₹449</td>\n",
       "      <td>30% off</td>\n",
       "    </tr>\n",
       "    <tr>\n",
       "      <th>97</th>\n",
       "      <td>Fastrack</td>\n",
       "      <td>UV Protection Retro Square Sunglasses (54)</td>\n",
       "      <td>₹999</td>\n",
       "      <td>10% off</td>\n",
       "    </tr>\n",
       "    <tr>\n",
       "      <th>98</th>\n",
       "      <td>Ray-Ban</td>\n",
       "      <td>UV Protection Retro Square Sunglasses (55)</td>\n",
       "      <td>₹499</td>\n",
       "      <td>67% off</td>\n",
       "    </tr>\n",
       "    <tr>\n",
       "      <th>99</th>\n",
       "      <td>VINCENT CHASE</td>\n",
       "      <td>UV Protection Round Sunglasses (47)</td>\n",
       "      <td>₹699</td>\n",
       "      <td>42% off</td>\n",
       "    </tr>\n",
       "  </tbody>\n",
       "</table>\n",
       "<p>100 rows × 4 columns</p>\n",
       "</div>"
      ],
      "text/plain": [
       "                 Name                                        Description  \\\n",
       "0       VINCENT CHASE  by Lenskart Polarized, UV Protection Cat-eye S...   \n",
       "1      ROZZETTA CRAFT              UV Protection Aviator Sunglasses (55)   \n",
       "2            Fastrack      UV Protection Wayfarer Sunglasses (Free Size)   \n",
       "3             DEIXELS  Polarized, UV Protection, Riding Glasses Wayfa...   \n",
       "4   SHAAH COLLECTIONS                UV Protection Round Sunglasses (54)   \n",
       "..                ...                                                ...   \n",
       "95     ROZZETTA CRAFT  UV Protection, Gradient Retro Square Sunglasse...   \n",
       "96         Lee Topper  Riding Glasses, Night Vision Wrap-around Sungl...   \n",
       "97           Fastrack         UV Protection Retro Square Sunglasses (54)   \n",
       "98            Ray-Ban         UV Protection Retro Square Sunglasses (55)   \n",
       "99      VINCENT CHASE                UV Protection Round Sunglasses (47)   \n",
       "\n",
       "   Price Discount  \n",
       "0   ₹999  60% off  \n",
       "1   ₹649  74% off  \n",
       "2   ₹799  20% off  \n",
       "3   ₹249  58% off  \n",
       "4   ₹179  86% off  \n",
       "..   ...      ...  \n",
       "95  ₹254  88% off  \n",
       "96  ₹449  30% off  \n",
       "97  ₹999  10% off  \n",
       "98  ₹499  67% off  \n",
       "99  ₹699  42% off  \n",
       "\n",
       "[100 rows x 4 columns]"
      ]
     },
     "execution_count": 36,
     "metadata": {},
     "output_type": "execute_result"
    }
   ],
   "source": [
    "que4"
   ]
  },
  {
   "cell_type": "code",
   "execution_count": 49,
   "id": "d429f1c3",
   "metadata": {},
   "outputs": [],
   "source": [
    "#importing all liabraries\n",
    "import pandas as pd\n",
    "import numpy as np\n",
    "import selenium\n",
    "from selenium import webdriver\n",
    "import warnings \n",
    "warnings.filterwarnings(\"ignore\")\n",
    "from selenium.webdriver.common.by import By\n",
    "from selenium.common.exceptions import NoSuchElementException, StaleElementReferenceException\n",
    "import time"
   ]
  },
  {
   "cell_type": "code",
   "execution_count": 39,
   "id": "b0636a79",
   "metadata": {},
   "outputs": [],
   "source": [
    "# Question 5\n",
    "\n",
    "driver=webdriver.Chrome(r\"C:\\Users\\USER\\Downloads\\chromedriver_win32 (2)\\chromedriver.exe\")\n",
    "\n",
    "url='https://www.flipkart.com/apple-iphone-11-black-64-gb-includes- earpods-power- adapter/p/itm0f37c2240b217?pid=MOBFKCTSVZAXUHGR&lid=LSTMOBFKC TSVZAXUHGREPBFGI&marketplace.'\n",
    "driver.get(url)\n",
    "\n"
   ]
  },
  {
   "cell_type": "code",
   "execution_count": 41,
   "id": "c4435f8c",
   "metadata": {},
   "outputs": [],
   "source": [
    "page_url = [] # a list containg url's of every page\n",
    "url = driver.find_elements(By.XPATH,\"//nav[@class='yFHi8N']//a\")\n",
    "for i in url:\n",
    "    page_url.append(i.get_attribute('href'))\n",
    "\n"
   ]
  },
  {
   "cell_type": "code",
   "execution_count": 42,
   "id": "64a19198",
   "metadata": {},
   "outputs": [],
   "source": [
    "rating=[]\n",
    "review=[]\n",
    "fullre=[]\n",
    "for i in page_url:\n",
    "    driver.get(i)\n",
    "    rate=driver.find_elements(By.XPATH,'//div[@class=\"_3LWZlK _1BLPMq\"]')\n",
    "    for i in rate:\n",
    "        rating.append(i.text)\n",
    "    rev=driver.find_elements(By.CLASS_NAME,\"_2-N8zT\")\n",
    "    for i in rev:\n",
    "        review.append(i.text)\n",
    "    fr=driver.find_elements(By.CLASS_NAME,\"t-ZTKy\")\n",
    "    for i in fr:\n",
    "        fullre.append(i.text)"
   ]
  },
  {
   "cell_type": "code",
   "execution_count": 43,
   "id": "68cd96fb",
   "metadata": {},
   "outputs": [],
   "source": [
    "rating=rating[:100]\n",
    "review=review[:100]\n",
    "fullre=fullre[:100]\n",
    "\n",
    "que5=pd.DataFrame({'Rating':rating,'Review Summary':review,'Full Review':fullre})"
   ]
  },
  {
   "cell_type": "code",
   "execution_count": 50,
   "id": "9142b468",
   "metadata": {},
   "outputs": [],
   "source": [
    "#importing all liabraries\n",
    "import pandas as pd\n",
    "import numpy as np\n",
    "import selenium\n",
    "from selenium import webdriver\n",
    "import warnings \n",
    "warnings.filterwarnings(\"ignore\")\n",
    "from selenium.webdriver.common.by import By\n",
    "from selenium.common.exceptions import NoSuchElementException, StaleElementReferenceException\n",
    "import time"
   ]
  },
  {
   "cell_type": "code",
   "execution_count": 51,
   "id": "73e30941",
   "metadata": {},
   "outputs": [],
   "source": [
    "# Question 6\n",
    "\n",
    "driver=webdriver.Chrome(r\"C:\\Users\\USER\\Downloads\\chromedriver_win32 (2)\\chromedriver.exe\")\n",
    "\n",
    "url='https://www.flipkart.com/'\n",
    "driver.get(url)\n"
   ]
  },
  {
   "cell_type": "code",
   "execution_count": 54,
   "id": "4d965905",
   "metadata": {},
   "outputs": [],
   "source": [
    "search=driver.find_element(By.XPATH,'/html/body/div[1]/div/div[1]/div[1]/div[2]/div[2]/form/div/div/input')\n",
    "search.send_keys('sneakers')\n",
    "\n",
    "click=driver.find_element(By.XPATH,'/html/body/div/div/div[1]/div[1]/div[2]/div[2]/form/div/button')\n",
    "click.click()"
   ]
  },
  {
   "cell_type": "code",
   "execution_count": 56,
   "id": "ab4a9740",
   "metadata": {},
   "outputs": [
    {
     "data": {
      "text/html": [
       "<div>\n",
       "<style scoped>\n",
       "    .dataframe tbody tr th:only-of-type {\n",
       "        vertical-align: middle;\n",
       "    }\n",
       "\n",
       "    .dataframe tbody tr th {\n",
       "        vertical-align: top;\n",
       "    }\n",
       "\n",
       "    .dataframe thead th {\n",
       "        text-align: right;\n",
       "    }\n",
       "</style>\n",
       "<table border=\"1\" class=\"dataframe\">\n",
       "  <thead>\n",
       "    <tr style=\"text-align: right;\">\n",
       "      <th></th>\n",
       "      <th>Name</th>\n",
       "      <th>Description</th>\n",
       "      <th>Price</th>\n",
       "      <th>Discount</th>\n",
       "    </tr>\n",
       "  </thead>\n",
       "  <tbody>\n",
       "    <tr>\n",
       "      <th>0</th>\n",
       "      <td>BRUTON</td>\n",
       "      <td>Modern Trendy Shoes Sneakers For Men</td>\n",
       "      <td>₹470</td>\n",
       "      <td>63% off</td>\n",
       "    </tr>\n",
       "    <tr>\n",
       "      <th>1</th>\n",
       "      <td>Labbin</td>\n",
       "      <td>Sneakers For Men</td>\n",
       "      <td>₹499</td>\n",
       "      <td>50% off</td>\n",
       "    </tr>\n",
       "    <tr>\n",
       "      <th>2</th>\n",
       "      <td>RED TAPE</td>\n",
       "      <td>Sneakers For Men</td>\n",
       "      <td>₹1,499</td>\n",
       "      <td>70% off</td>\n",
       "    </tr>\n",
       "    <tr>\n",
       "      <th>3</th>\n",
       "      <td>JACK &amp; JONES</td>\n",
       "      <td>Sneakers For Men</td>\n",
       "      <td>₹1,959</td>\n",
       "      <td>30% off</td>\n",
       "    </tr>\n",
       "    <tr>\n",
       "      <th>4</th>\n",
       "      <td>BRUTON</td>\n",
       "      <td>Lightweight Pack Of 1 Trendy Sneakers Sneakers...</td>\n",
       "      <td>₹259</td>\n",
       "      <td>56% off</td>\n",
       "    </tr>\n",
       "    <tr>\n",
       "      <th>...</th>\n",
       "      <td>...</td>\n",
       "      <td>...</td>\n",
       "      <td>...</td>\n",
       "      <td>...</td>\n",
       "    </tr>\n",
       "    <tr>\n",
       "      <th>95</th>\n",
       "      <td>JACK &amp; JONES</td>\n",
       "      <td>Sneakers For Men</td>\n",
       "      <td>₹399</td>\n",
       "      <td>18% off</td>\n",
       "    </tr>\n",
       "    <tr>\n",
       "      <th>96</th>\n",
       "      <td>Bantox</td>\n",
       "      <td>Running Casual Lightweight Gym Walking Street ...</td>\n",
       "      <td>₹332</td>\n",
       "      <td>60% off</td>\n",
       "    </tr>\n",
       "    <tr>\n",
       "      <th>97</th>\n",
       "      <td>ASTEROID</td>\n",
       "      <td>Original Luxury Branded Black Fancy Casual Wal...</td>\n",
       "      <td>₹1,249</td>\n",
       "      <td>50% off</td>\n",
       "    </tr>\n",
       "    <tr>\n",
       "      <th>98</th>\n",
       "      <td>RED CHIEF</td>\n",
       "      <td>Sneakers For Men</td>\n",
       "      <td>₹269</td>\n",
       "      <td>40% off</td>\n",
       "    </tr>\n",
       "    <tr>\n",
       "      <th>99</th>\n",
       "      <td>JACK &amp; JONES</td>\n",
       "      <td>Sneakers For Men</td>\n",
       "      <td>₹399</td>\n",
       "      <td>30% off</td>\n",
       "    </tr>\n",
       "  </tbody>\n",
       "</table>\n",
       "<p>100 rows × 4 columns</p>\n",
       "</div>"
      ],
      "text/plain": [
       "            Name                                        Description   Price  \\\n",
       "0         BRUTON               Modern Trendy Shoes Sneakers For Men    ₹470   \n",
       "1         Labbin                                   Sneakers For Men    ₹499   \n",
       "2       RED TAPE                                   Sneakers For Men  ₹1,499   \n",
       "3   JACK & JONES                                   Sneakers For Men  ₹1,959   \n",
       "4         BRUTON  Lightweight Pack Of 1 Trendy Sneakers Sneakers...    ₹259   \n",
       "..           ...                                                ...     ...   \n",
       "95  JACK & JONES                                   Sneakers For Men    ₹399   \n",
       "96        Bantox  Running Casual Lightweight Gym Walking Street ...    ₹332   \n",
       "97      ASTEROID  Original Luxury Branded Black Fancy Casual Wal...  ₹1,249   \n",
       "98     RED CHIEF                                   Sneakers For Men    ₹269   \n",
       "99  JACK & JONES                                   Sneakers For Men    ₹399   \n",
       "\n",
       "   Discount  \n",
       "0   63% off  \n",
       "1   50% off  \n",
       "2   70% off  \n",
       "3   30% off  \n",
       "4   56% off  \n",
       "..      ...  \n",
       "95  18% off  \n",
       "96  60% off  \n",
       "97  50% off  \n",
       "98  40% off  \n",
       "99  30% off  \n",
       "\n",
       "[100 rows x 4 columns]"
      ]
     },
     "execution_count": 56,
     "metadata": {},
     "output_type": "execute_result"
    }
   ],
   "source": [
    "page_url = [] # a list containg url's of every page\n",
    "url = driver.find_elements(By.XPATH,\"//nav[@class='yFHi8N']//a\")\n",
    "for i in url:\n",
    "    page_url.append(i.get_attribute('href'))\n",
    "    \n",
    "name=[]\n",
    "des=[]\n",
    "price=[]\n",
    "dis=[]\n",
    "for i in page_url[:3]:\n",
    "    driver.get(i)\n",
    "    title=driver.find_elements(By.CLASS_NAME,\"_2WkVRV\")\n",
    "    for i in title:\n",
    "         name.append(i.text)\n",
    "            \n",
    "    desc=driver.find_elements(By.CLASS_NAME,'IRpwTa' or 'IRpwTa _2-ICcC')\n",
    "    for i in desc:\n",
    "        des.append(i.text)\n",
    "        \n",
    "    amount=driver.find_elements(By.CLASS_NAME,'_30jeq3')\n",
    "    for i in amount:\n",
    "        price.append(i.text)\n",
    "        \n",
    "    less=driver.find_elements(By.XPATH,'//div[@class=\"_3Ay6Sb\"]')\n",
    "    for i in less:\n",
    "        dis.append(i.text)\n",
    "        \n",
    "        \n",
    "name=name[:100]\n",
    "des=des[:100]\n",
    "price=price[:100]\n",
    "dis=dis[:100]\n",
    "\n",
    "que6=pd.DataFrame({'Name':name,'Description':des,'Price':price,'Discount':dis})\n",
    "que6"
   ]
  },
  {
   "cell_type": "code",
   "execution_count": 58,
   "id": "8d316520",
   "metadata": {},
   "outputs": [],
   "source": [
    "# Question 7 \n",
    "\n",
    "driver=webdriver.Chrome(r\"C:\\Users\\USER\\Downloads\\chromedriver_win32 (2)\\chromedriver.exe\")\n",
    "\n",
    "url='https://www.myntra.com/shoes'\n",
    "driver.get(url)\n",
    "\n",
    "black=driver.find_element(By.XPATH,'/html/body/div[2]/div/div[1]/main/div[3]/div[1]/section/div/div[6]/ul/li[1]/label/div')\n",
    "black.click()"
   ]
  },
  {
   "cell_type": "code",
   "execution_count": 61,
   "id": "d3d59b53",
   "metadata": {},
   "outputs": [],
   "source": [
    "price=driver.find_element(By.XPATH,'/html/body/div[2]/div/div[1]/main/div[3]/div[1]/section/div/div[5]/ul/li[2]/label/div')\n",
    "price.click()"
   ]
  },
  {
   "cell_type": "code",
   "execution_count": 63,
   "id": "53f38f5b",
   "metadata": {},
   "outputs": [
    {
     "data": {
      "text/html": [
       "<div>\n",
       "<style scoped>\n",
       "    .dataframe tbody tr th:only-of-type {\n",
       "        vertical-align: middle;\n",
       "    }\n",
       "\n",
       "    .dataframe tbody tr th {\n",
       "        vertical-align: top;\n",
       "    }\n",
       "\n",
       "    .dataframe thead th {\n",
       "        text-align: right;\n",
       "    }\n",
       "</style>\n",
       "<table border=\"1\" class=\"dataframe\">\n",
       "  <thead>\n",
       "    <tr style=\"text-align: right;\">\n",
       "      <th></th>\n",
       "      <th>Brand Name</th>\n",
       "      <th>Short Description</th>\n",
       "      <th>Price</th>\n",
       "    </tr>\n",
       "  </thead>\n",
       "  <tbody>\n",
       "    <tr>\n",
       "      <th>0</th>\n",
       "      <td>Skechers</td>\n",
       "      <td>Men Go Walk Walking Shoes</td>\n",
       "      <td>Rs. 7499</td>\n",
       "    </tr>\n",
       "    <tr>\n",
       "      <th>1</th>\n",
       "      <td>PUMA Motorsport</td>\n",
       "      <td>Unisex MAPF1 Drift Sneakers</td>\n",
       "      <td>Rs. 8999</td>\n",
       "    </tr>\n",
       "    <tr>\n",
       "      <th>2</th>\n",
       "      <td>Nike</td>\n",
       "      <td>Men JORDAN LOW Basketball Shoe</td>\n",
       "      <td>Rs. 12795</td>\n",
       "    </tr>\n",
       "    <tr>\n",
       "      <th>3</th>\n",
       "      <td>ADIDAS</td>\n",
       "      <td>Men Response Super 3.0 Run</td>\n",
       "      <td>Rs. 8999</td>\n",
       "    </tr>\n",
       "    <tr>\n",
       "      <th>4</th>\n",
       "      <td>Nike</td>\n",
       "      <td>Men Running Shoes</td>\n",
       "      <td>Rs. 7495</td>\n",
       "    </tr>\n",
       "    <tr>\n",
       "      <th>...</th>\n",
       "      <td>...</td>\n",
       "      <td>...</td>\n",
       "      <td>...</td>\n",
       "    </tr>\n",
       "    <tr>\n",
       "      <th>95</th>\n",
       "      <td>Skechers</td>\n",
       "      <td>Men Sky Vault Walking Shoes</td>\n",
       "      <td>Rs. 8999</td>\n",
       "    </tr>\n",
       "    <tr>\n",
       "      <th>96</th>\n",
       "      <td>Skechers</td>\n",
       "      <td>Men Sports Shoes</td>\n",
       "      <td>Rs. 7999</td>\n",
       "    </tr>\n",
       "    <tr>\n",
       "      <th>97</th>\n",
       "      <td>Ruosh</td>\n",
       "      <td>Men Textured Leather Loafers</td>\n",
       "      <td>Rs. 7990</td>\n",
       "    </tr>\n",
       "    <tr>\n",
       "      <th>98</th>\n",
       "      <td>ADIDAS Originals</td>\n",
       "      <td>Women Superstar Sneakers</td>\n",
       "      <td>Rs. 8999Rs. 9999(10% OFF)</td>\n",
       "    </tr>\n",
       "    <tr>\n",
       "      <th>99</th>\n",
       "      <td>Xtep</td>\n",
       "      <td>Men Skateboarding Shoes</td>\n",
       "      <td>Rs. 8599</td>\n",
       "    </tr>\n",
       "  </tbody>\n",
       "</table>\n",
       "<p>100 rows × 3 columns</p>\n",
       "</div>"
      ],
      "text/plain": [
       "          Brand Name               Short Description  \\\n",
       "0           Skechers       Men Go Walk Walking Shoes   \n",
       "1    PUMA Motorsport     Unisex MAPF1 Drift Sneakers   \n",
       "2               Nike  Men JORDAN LOW Basketball Shoe   \n",
       "3             ADIDAS      Men Response Super 3.0 Run   \n",
       "4               Nike               Men Running Shoes   \n",
       "..               ...                             ...   \n",
       "95          Skechers     Men Sky Vault Walking Shoes   \n",
       "96          Skechers                Men Sports Shoes   \n",
       "97             Ruosh    Men Textured Leather Loafers   \n",
       "98  ADIDAS Originals        Women Superstar Sneakers   \n",
       "99              Xtep         Men Skateboarding Shoes   \n",
       "\n",
       "                        Price  \n",
       "0                    Rs. 7499  \n",
       "1                    Rs. 8999  \n",
       "2                   Rs. 12795  \n",
       "3                    Rs. 8999  \n",
       "4                    Rs. 7495  \n",
       "..                        ...  \n",
       "95                   Rs. 8999  \n",
       "96                   Rs. 7999  \n",
       "97                   Rs. 7990  \n",
       "98  Rs. 8999Rs. 9999(10% OFF)  \n",
       "99                   Rs. 8599  \n",
       "\n",
       "[100 rows x 3 columns]"
      ]
     },
     "execution_count": 63,
     "metadata": {},
     "output_type": "execute_result"
    }
   ],
   "source": [
    "name=[]\n",
    "des=[]\n",
    "price=[]\n",
    "for i in range(2):\n",
    "    \n",
    "    brand=driver.find_elements(By.CLASS_NAME,'product-brand')\n",
    "    for i in brand:\n",
    "        name.append(i.text)\n",
    "        \n",
    "    desc=driver.find_elements(By.CLASS_NAME,'product-product')\n",
    "    for i in desc:\n",
    "        des.append(i.text)\n",
    "        \n",
    "    pr=driver.find_elements(By.CLASS_NAME,'product-price')\n",
    "    for i in pr:\n",
    "        price.append(i.text)\n",
    "        \n",
    "    Next=driver.find_element(By.XPATH,'//a[@rel=\"next\"]    ')\n",
    "    Next.click\n",
    "    \n",
    "    \n",
    "que7=pd.DataFrame({'Brand Name':name,'Short Description':des,'Price':price})\n",
    "que7"
   ]
  },
  {
   "cell_type": "code",
   "execution_count": 65,
   "id": "cf967525",
   "metadata": {},
   "outputs": [],
   "source": [
    "#Q.8\n",
    "driver=webdriver.Chrome(r\"C:\\Users\\USER\\Downloads\\chromedriver_win32 (2)\\chromedriver.exe\")\n",
    "\n",
    "url='https://www.amazon.in/'\n",
    "driver.get(url)\n",
    "\n",
    "text=driver.find_element(By.ID,'twotabsearchtextbox')\n",
    "text.send_keys('Laptop')\n",
    "\n",
    "search=driver.find_element(By.ID,'nav-search-submit-button')\n",
    "search.click()"
   ]
  },
  {
   "cell_type": "code",
   "execution_count": 66,
   "id": "d409c003",
   "metadata": {},
   "outputs": [],
   "source": [
    "title=[]\n",
    "rank=[]\n",
    "price=[]\n",
    "for i in range(2):\n",
    "    \n",
    "    tit=driver.find_elements(By.CLASS_NAME,'a-link-normal s-underline-text s-underline-link-text s-link-style a-text-normal')\n",
    "    for i in tit:\n",
    "        title.append(i.text)\n",
    "        \n",
    "    ran=driver.find_elements(By.CLASS_NAME,'a-icon a-icon-star-small a-star-small-4 aok-align-bottom')\n",
    "    for i in ran:\n",
    "        rank.append(i.text)\n",
    "        \n",
    "    pr=driver.find_elements(By.CLASS_NAME,'a-price-whole')\n",
    "    for i in pr:\n",
    "        price.append(i.text)\n",
    "        \n",
    "\n",
    "    "
   ]
  },
  {
   "cell_type": "code",
   "execution_count": 81,
   "id": "111cbf00",
   "metadata": {},
   "outputs": [],
   "source": [
    "#Question no 9 skiped as per organisation"
   ]
  },
  {
   "cell_type": "code",
   "execution_count": 75,
   "id": "6e691589",
   "metadata": {},
   "outputs": [],
   "source": [
    "# Question 10\n",
    "\n",
    "driver=webdriver.Chrome(r\"C:\\Users\\USER\\Downloads\\chromedriver_win32 (2)\\chromedriver.exe\")\n",
    "\n",
    "url='https://www.ambitionbox.com/'\n",
    "driver.get(url)\n"
   ]
  },
  {
   "cell_type": "code",
   "execution_count": null,
   "id": "c42e9413",
   "metadata": {},
   "outputs": [],
   "source": [
    "salary=driver.find_element(By.XPATH,'//a[@title=\"Company Salaries\"]')\n",
    "salary.click()\n",
    "\n",
    "search=driver.find_element(By.ID,'jobProfileSearchbox')\n",
    "search.send_keys('Data Scientist')"
   ]
  },
  {
   "cell_type": "code",
   "execution_count": null,
   "id": "1f7fa054",
   "metadata": {},
   "outputs": [],
   "source": [
    "click=driver.find_element_by_xpath('/html/body/div/div/div/main/section[1]/div[2]/div[1]/span/div/div/div[1]/div/div/p')\n",
    "click.click()"
   ]
  },
  {
   "cell_type": "code",
   "execution_count": null,
   "id": "7f33bd4c",
   "metadata": {},
   "outputs": [],
   "source": [
    "name=[]\n",
    "na=driver.find_elements_by_xpath('//div[@class=\"name\"]')\n",
    "for i in na:\n",
    "    name.append(i.text.split('\\n')[0])\n",
    "    \n",
    "total_salary=[]\n",
    "ts=driver.find_elements_by_xpath('//div[@class=\"name\"]')\n",
    "for i in ts:\n",
    "    total_salary.append(i.text.split('\\n')[1])\n",
    "    \n",
    "exp=[]\n",
    "ex=driver.find_elements_by_xpath('//div[@class=\"salaries sbold-list-header\"]')\n",
    "for i in ex:\n",
    "    exp.append(i.text.split('\\n')[2])\n",
    "    \n",
    "avg_sal=[]\n",
    "avg=driver.find_elements_by_xpath('//p[@class=\"averageCtc\"]')\n",
    "for i in avg:\n",
    "    avg_sal.append(i.text)\n",
    "    \n",
    "min_sal=[]\n",
    "mins=driver.find_elements_by_xpath('//div[@class=\"value body-medium\"]')\n",
    "for i in mins:\n",
    "    min_sal.append(i.text)\n",
    "    \n",
    "min_sal=min_sal[0::2]\n",
    "\n",
    "max_sal=[]\n",
    "maxs=driver.find_elements_by_xpath('//div[@class=\"value body-medium\"]')\n",
    "for i in maxs:\n",
    "    max_sal.append(i.text)\n",
    "    \n",
    "max_sal=max_sal[0::2]\n",
    "\n",
    "que10=pd.DataFrame({'Company Name':name,'Total Salary':total_salary,'Experience':exp,'Average Salary':avg_sal,'Minimum Salary':min_sal,'Maximum Salary':max_sal})\n"
   ]
  }
 ],
 "metadata": {
  "kernelspec": {
   "display_name": "Python 3 (ipykernel)",
   "language": "python",
   "name": "python3"
  },
  "language_info": {
   "codemirror_mode": {
    "name": "ipython",
    "version": 3
   },
   "file_extension": ".py",
   "mimetype": "text/x-python",
   "name": "python",
   "nbconvert_exporter": "python",
   "pygments_lexer": "ipython3",
   "version": "3.9.7"
  }
 },
 "nbformat": 4,
 "nbformat_minor": 5
}
